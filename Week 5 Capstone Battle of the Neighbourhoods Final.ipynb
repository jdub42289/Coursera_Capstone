{
    "cells": [
        {
            "cell_type": "markdown",
            "metadata": {
                "collapsed": true
            },
            "source": "## Peer-graded Assignment: Battle of Neighbourhoods - Week 1\u00b6\nBy Jordan\n\n### 1. Introduction\n### 1.1 Description of the Problem\nThere are a lot of fantastic restaurants in London \u2013 Asian, Middle Eastern, Latin and American cuisine, however, one will struggle to find a place to dine in the finest of West African cuisine: Nigerian, Ghanaian, Cameroonian, Senegalese and more.\n\n### 1.2 Discussion of the Background\nA successful restaurant chain in Africa is looking to expand its operations into Europe through London. They want to create a high-end organic African restaurant. Their target is not only West Africans, but they are pro-organic and healthy eating. Since the London demography is so big, my client needs deeper insight from available data in other to decide where to establish the first Europe \u201cpalace\u201d restaurant. This company spends a lot on research and provides customers with data insight into the ingredients used at restaurants.\n\n### 1.3 Target Audience\nConsidering the diversity of London, there is a high multicultural sense. London is a place where different shades live. As such, in the search for an high-end African-inclined restaurant, there is a high shortage. The target audience is broad, it ranges across Londoners, tourists and those who are passionate about organic food.\n\n### 2. Data\n### 2.1 Description of Data\nThis project will rely on public data from Wikipedia and Foursquare.\n\n### 2.1.1 Dataset 1:\nIn this project, London will be used synonymously with the \"Greater London Area\". Within the Greater London Area, there are areas that are within the London Area Postcode. The focus of this project will be the neighbourhoods that are within the London Post Code area.\n\nThe London Area consists of 32 Boroughs and the \"City of London\". Data will be from the link - Greater London Area https://en.wikipedia.org/wiki/List_of_areas_of_London"
        },
        {
            "cell_type": "markdown",
            "metadata": {},
            "source": "The web scrapped of the Wikipedia page for the Greater London Area data is provided below:"
        },
        {
            "cell_type": "code",
            "execution_count": 2,
            "metadata": {},
            "outputs": [
                {
                    "name": "stdout",
                    "output_type": "stream",
                    "text": "numpy, pandas, ..., imported...\ngeopy installed...\nNominatim imported...\nrequests imported...\njson_normalize imported...\nmatplotlib imported...\nKmeans imported...\nfolium installed...\nfolium imported...\n...Done\n"
                }
            ],
            "source": "# library for BeautifulSoup\nfrom bs4 import BeautifulSoup\n\n# library to handle data in a vectorized manner\nimport numpy as np\n\n# library for data analsysis\nimport pandas as pd\npd.set_option('display.max_columns', None)\npd.set_option('display.max_rows', None)\n\n# library to handle JSON files\nimport json\nprint('numpy, pandas, ..., imported...')\n\n!pip -q install geopy\n# conda install -c conda-forge geopy --yes # uncomment this line if you haven't completed the Foursquare API lab\nprint('geopy installed...')\n# convert an address into latitude and longitude values\nfrom geopy.geocoders import Nominatim\nprint('Nominatim imported...')\n\n# library to handle requests\nimport requests\nprint('requests imported...')\n\n# tranform JSON file into a pandas dataframe\nfrom pandas.io.json import json_normalize\nprint('json_normalize imported...')\n\n# Matplotlib and associated plotting modules\nimport matplotlib.cm as cm\nimport matplotlib.colors as colors\nprint('matplotlib imported...')\n\n# import k-means from clustering stage\nfrom sklearn.cluster import KMeans\nprint('Kmeans imported...')\n\n# install the Geocoder\n!pip -q install geocoder\nimport geocoder\n\n# import time\nimport time\n\n# !conda install -c conda-forge folium=0.5.0 --yes # uncomment this line if you haven't completed the Foursquare API lab\n!pip -q install folium\nprint('folium installed...')\nimport folium # map rendering library\nprint('folium imported...')\nprint('...Done')"
        },
        {
            "cell_type": "code",
            "execution_count": 3,
            "metadata": {},
            "outputs": [
                {
                    "data": {
                        "text/plain": "<Response [200]>"
                    },
                    "execution_count": 3,
                    "metadata": {},
                    "output_type": "execute_result"
                }
            ],
            "source": "wikipedia_link = 'https://en.wikipedia.org/wiki/List_of_areas_of_London'\nheaders = {'User-Agent': 'Mozilla/5.0 (Windows NT 10.0; Win64; x64; rv:64.0) Gecko/20100101 Firefox/64.0'}\nwikipedia_page = requests.get(wikipedia_link, headers = headers)\nwikipedia_page"
        },
        {
            "cell_type": "code",
            "execution_count": 4,
            "metadata": {},
            "outputs": [],
            "source": "# Cleans html file\nsoup = BeautifulSoup(wikipedia_page.content, 'html.parser')\n# This extracts the \"tbody\" within the table where class is \"wikitable sortable\"\ntable = soup.find('table', {'class':'wikitable sortable'}).tbody"
        },
        {
            "cell_type": "code",
            "execution_count": 6,
            "metadata": {},
            "outputs": [],
            "source": "# Extracts all \"tr\" (table rows) within the table above\nrows = table.find_all('tr')"
        },
        {
            "cell_type": "code",
            "execution_count": 7,
            "metadata": {},
            "outputs": [],
            "source": "# Extracts the column headers, removes and replaces possible '\\n' with space for the \"th\" tag\ncolumns = [i.text.replace('\\n', '')\n           for i in rows[0].find_all('th')]"
        },
        {
            "cell_type": "code",
            "execution_count": 8,
            "metadata": {},
            "outputs": [
                {
                    "data": {
                        "text/html": "<div>\n<style scoped>\n    .dataframe tbody tr th:only-of-type {\n        vertical-align: middle;\n    }\n\n    .dataframe tbody tr th {\n        vertical-align: top;\n    }\n\n    .dataframe thead th {\n        text-align: right;\n    }\n</style>\n<table border=\"1\" class=\"dataframe\">\n  <thead>\n    <tr style=\"text-align: right;\">\n      <th></th>\n      <th>Location</th>\n      <th>London\u00a0borough</th>\n      <th>Post town</th>\n      <th>Postcode\u00a0district</th>\n      <th>Dial\u00a0code</th>\n      <th>OS grid ref</th>\n    </tr>\n  </thead>\n  <tbody>\n  </tbody>\n</table>\n</div>",
                        "text/plain": "Empty DataFrame\nColumns: [Location, London\u00a0borough, Post town, Postcode\u00a0district, Dial\u00a0code, OS grid ref]\nIndex: []"
                    },
                    "execution_count": 8,
                    "metadata": {},
                    "output_type": "execute_result"
                }
            ],
            "source": "# Converts columns to pd dataframe\ndf = pd.DataFrame(columns = columns)\ndf"
        },
        {
            "cell_type": "code",
            "execution_count": 9,
            "metadata": {},
            "outputs": [],
            "source": "# Extracts every row with corresponding columns\n# Then appends the values to the create pd dataframe \"df\"\n# Please note that the first row (row[0]) is skipped because it is already the header\nfor i in range(1, len(rows)):\n    tds = rows[i].find_all('td')\n    \n    \n    if len(tds) == 7:\n        values = [tds[0].text, tds[1].text, tds[2].text.replace('\\n', ''.replace('\\xa0','')), tds[3].text, tds[4].text.replace('\\n', ''.replace('\\xa0','')), tds[5].text.replace('\\n', ''.replace('\\xa0','')), tds[6].text.replace('\\n', ''.replace('\\xa0',''))]\n    else:\n        values = [td.text.replace('\\n', '').replace('\\xa0','') for td in tds]\n        \n        df = df.append(pd.Series(values, index = columns), ignore_index = True)\n\n        df"
        },
        {
            "cell_type": "code",
            "execution_count": 10,
            "metadata": {},
            "outputs": [
                {
                    "data": {
                        "text/html": "<div>\n<style scoped>\n    .dataframe tbody tr th:only-of-type {\n        vertical-align: middle;\n    }\n\n    .dataframe tbody tr th {\n        vertical-align: top;\n    }\n\n    .dataframe thead th {\n        text-align: right;\n    }\n</style>\n<table border=\"1\" class=\"dataframe\">\n  <thead>\n    <tr style=\"text-align: right;\">\n      <th></th>\n      <th>Location</th>\n      <th>London\u00a0borough</th>\n      <th>Post town</th>\n      <th>Postcode\u00a0district</th>\n      <th>Dial\u00a0code</th>\n      <th>OS grid ref</th>\n    </tr>\n  </thead>\n  <tbody>\n    <tr>\n      <th>0</th>\n      <td>Abbey Wood</td>\n      <td>Bexley,  Greenwich [7]</td>\n      <td>LONDON</td>\n      <td>SE2</td>\n      <td>020</td>\n      <td>TQ465785</td>\n    </tr>\n    <tr>\n      <th>1</th>\n      <td>Acton</td>\n      <td>Ealing, Hammersmith and Fulham[8]</td>\n      <td>LONDON</td>\n      <td>W3, W4</td>\n      <td>020</td>\n      <td>TQ205805</td>\n    </tr>\n    <tr>\n      <th>2</th>\n      <td>Addington</td>\n      <td>Croydon[8]</td>\n      <td>CROYDON</td>\n      <td>CR0</td>\n      <td>020</td>\n      <td>TQ375645</td>\n    </tr>\n    <tr>\n      <th>3</th>\n      <td>Addiscombe</td>\n      <td>Croydon[8]</td>\n      <td>CROYDON</td>\n      <td>CR0</td>\n      <td>020</td>\n      <td>TQ345665</td>\n    </tr>\n    <tr>\n      <th>4</th>\n      <td>Albany Park</td>\n      <td>Bexley</td>\n      <td>BEXLEY, SIDCUP</td>\n      <td>DA5, DA14</td>\n      <td>020</td>\n      <td>TQ478728</td>\n    </tr>\n  </tbody>\n</table>\n</div>",
                        "text/plain": "      Location                     London\u00a0borough       Post town  \\\n0   Abbey Wood             Bexley,  Greenwich [7]          LONDON   \n1        Acton  Ealing, Hammersmith and Fulham[8]          LONDON   \n2    Addington                         Croydon[8]         CROYDON   \n3   Addiscombe                         Croydon[8]         CROYDON   \n4  Albany Park                             Bexley  BEXLEY, SIDCUP   \n\n  Postcode\u00a0district Dial\u00a0code OS grid ref  \n0               SE2       020    TQ465785  \n1            W3, W4       020    TQ205805  \n2               CR0       020    TQ375645  \n3               CR0       020    TQ345665  \n4         DA5, DA14       020    TQ478728  "
                    },
                    "execution_count": 10,
                    "metadata": {},
                    "output_type": "execute_result"
                }
            ],
            "source": "df.head(5)"
        },
        {
            "cell_type": "code",
            "execution_count": 11,
            "metadata": {},
            "outputs": [],
            "source": "df = df.rename(index=str, columns = {'Location': 'Location', 'London\\xa0borough': 'Borough', 'Post town': 'Post-town', 'Postcode\\xa0district': 'Postcode', 'Dial\\xa0code': 'Dial-code', 'OS grid ref': 'OSGridRef'})"
        },
        {
            "cell_type": "code",
            "execution_count": 12,
            "metadata": {},
            "outputs": [
                {
                    "data": {
                        "text/html": "<div>\n<style scoped>\n    .dataframe tbody tr th:only-of-type {\n        vertical-align: middle;\n    }\n\n    .dataframe tbody tr th {\n        vertical-align: top;\n    }\n\n    .dataframe thead th {\n        text-align: right;\n    }\n</style>\n<table border=\"1\" class=\"dataframe\">\n  <thead>\n    <tr style=\"text-align: right;\">\n      <th></th>\n      <th>Location</th>\n      <th>Borough</th>\n      <th>Post-town</th>\n      <th>Postcode</th>\n      <th>Dial-code</th>\n      <th>OSGridRef</th>\n    </tr>\n  </thead>\n  <tbody>\n    <tr>\n      <th>0</th>\n      <td>Abbey Wood</td>\n      <td>Bexley,  Greenwich [7]</td>\n      <td>LONDON</td>\n      <td>SE2</td>\n      <td>020</td>\n      <td>TQ465785</td>\n    </tr>\n    <tr>\n      <th>1</th>\n      <td>Acton</td>\n      <td>Ealing, Hammersmith and Fulham[8]</td>\n      <td>LONDON</td>\n      <td>W3, W4</td>\n      <td>020</td>\n      <td>TQ205805</td>\n    </tr>\n    <tr>\n      <th>2</th>\n      <td>Addington</td>\n      <td>Croydon[8]</td>\n      <td>CROYDON</td>\n      <td>CR0</td>\n      <td>020</td>\n      <td>TQ375645</td>\n    </tr>\n    <tr>\n      <th>3</th>\n      <td>Addiscombe</td>\n      <td>Croydon[8]</td>\n      <td>CROYDON</td>\n      <td>CR0</td>\n      <td>020</td>\n      <td>TQ345665</td>\n    </tr>\n    <tr>\n      <th>4</th>\n      <td>Albany Park</td>\n      <td>Bexley</td>\n      <td>BEXLEY, SIDCUP</td>\n      <td>DA5, DA14</td>\n      <td>020</td>\n      <td>TQ478728</td>\n    </tr>\n  </tbody>\n</table>\n</div>",
                        "text/plain": "      Location                            Borough       Post-town   Postcode  \\\n0   Abbey Wood             Bexley,  Greenwich [7]          LONDON        SE2   \n1        Acton  Ealing, Hammersmith and Fulham[8]          LONDON     W3, W4   \n2    Addington                         Croydon[8]         CROYDON        CR0   \n3   Addiscombe                         Croydon[8]         CROYDON        CR0   \n4  Albany Park                             Bexley  BEXLEY, SIDCUP  DA5, DA14   \n\n  Dial-code OSGridRef  \n0       020  TQ465785  \n1       020  TQ205805  \n2       020  TQ375645  \n3       020  TQ345665  \n4       020  TQ478728  "
                    },
                    "execution_count": 12,
                    "metadata": {},
                    "output_type": "execute_result"
                }
            ],
            "source": "df.head(5)"
        },
        {
            "cell_type": "markdown",
            "metadata": {},
            "source": "Looking the data, under the Borough, there are borough names with []. These are references extracted from the wiki page. So remove these, the following was done:"
        },
        {
            "cell_type": "code",
            "execution_count": 13,
            "metadata": {},
            "outputs": [],
            "source": "df['Borough'] = df['Borough'].map(lambda x: x.rstrip(']').rstrip('0123456789').rstrip('['))"
        },
        {
            "cell_type": "code",
            "execution_count": 14,
            "metadata": {},
            "outputs": [
                {
                    "data": {
                        "text/plain": "(533, 6)"
                    },
                    "execution_count": 14,
                    "metadata": {},
                    "output_type": "execute_result"
                }
            ],
            "source": "df.shape"
        },
        {
            "cell_type": "code",
            "execution_count": 15,
            "metadata": {},
            "outputs": [
                {
                    "data": {
                        "text/html": "<div>\n<style scoped>\n    .dataframe tbody tr th:only-of-type {\n        vertical-align: middle;\n    }\n\n    .dataframe tbody tr th {\n        vertical-align: top;\n    }\n\n    .dataframe thead th {\n        text-align: right;\n    }\n</style>\n<table border=\"1\" class=\"dataframe\">\n  <thead>\n    <tr style=\"text-align: right;\">\n      <th></th>\n      <th>Location</th>\n      <th>Borough</th>\n      <th>Post-town</th>\n      <th>Postcode</th>\n      <th>Dial-code</th>\n      <th>OSGridRef</th>\n    </tr>\n  </thead>\n  <tbody>\n    <tr>\n      <th>0</th>\n      <td>Abbey Wood</td>\n      <td>Bexley,  Greenwich</td>\n      <td>LONDON</td>\n      <td>SE2</td>\n      <td>020</td>\n      <td>TQ465785</td>\n    </tr>\n    <tr>\n      <th>1</th>\n      <td>Acton</td>\n      <td>Ealing, Hammersmith and Fulham</td>\n      <td>LONDON</td>\n      <td>W3, W4</td>\n      <td>020</td>\n      <td>TQ205805</td>\n    </tr>\n    <tr>\n      <th>2</th>\n      <td>Addington</td>\n      <td>Croydon</td>\n      <td>CROYDON</td>\n      <td>CR0</td>\n      <td>020</td>\n      <td>TQ375645</td>\n    </tr>\n    <tr>\n      <th>3</th>\n      <td>Addiscombe</td>\n      <td>Croydon</td>\n      <td>CROYDON</td>\n      <td>CR0</td>\n      <td>020</td>\n      <td>TQ345665</td>\n    </tr>\n    <tr>\n      <th>4</th>\n      <td>Albany Park</td>\n      <td>Bexley</td>\n      <td>BEXLEY, SIDCUP</td>\n      <td>DA5, DA14</td>\n      <td>020</td>\n      <td>TQ478728</td>\n    </tr>\n  </tbody>\n</table>\n</div>",
                        "text/plain": "      Location                         Borough       Post-town   Postcode  \\\n0   Abbey Wood             Bexley,  Greenwich           LONDON        SE2   \n1        Acton  Ealing, Hammersmith and Fulham          LONDON     W3, W4   \n2    Addington                         Croydon         CROYDON        CR0   \n3   Addiscombe                         Croydon         CROYDON        CR0   \n4  Albany Park                          Bexley  BEXLEY, SIDCUP  DA5, DA14   \n\n  Dial-code OSGridRef  \n0       020  TQ465785  \n1       020  TQ205805  \n2       020  TQ375645  \n3       020  TQ345665  \n4       020  TQ478728  "
                    },
                    "execution_count": 15,
                    "metadata": {},
                    "output_type": "execute_result"
                }
            ],
            "source": "df.head(5)"
        },
        {
            "cell_type": "markdown",
            "metadata": {},
            "source": "London is big and due to the limitations in the number of calls for the Foursquare API, the following assumptions are made to confine this project to only South East London.\n\nAssumption 1: Where the Postcode are more than one, (for example, in Acton, there are 2 postcodes - W3 and W4), the postcodes are spread to multi-rows and assigned the same values from the other columns."
        },
        {
            "cell_type": "code",
            "execution_count": 16,
            "metadata": {},
            "outputs": [],
            "source": "df0 = df.drop('Postcode', axis=1).join(df['Postcode'].str.split(',', expand=True).stack().reset_index(level=1, drop=True).rename('Postcode'))"
        },
        {
            "cell_type": "code",
            "execution_count": 17,
            "metadata": {},
            "outputs": [
                {
                    "data": {
                        "text/html": "<div>\n<style scoped>\n    .dataframe tbody tr th:only-of-type {\n        vertical-align: middle;\n    }\n\n    .dataframe tbody tr th {\n        vertical-align: top;\n    }\n\n    .dataframe thead th {\n        text-align: right;\n    }\n</style>\n<table border=\"1\" class=\"dataframe\">\n  <thead>\n    <tr style=\"text-align: right;\">\n      <th></th>\n      <th>Location</th>\n      <th>Borough</th>\n      <th>Post-town</th>\n      <th>Dial-code</th>\n      <th>OSGridRef</th>\n      <th>Postcode</th>\n    </tr>\n  </thead>\n  <tbody>\n    <tr>\n      <th>0</th>\n      <td>Abbey Wood</td>\n      <td>Bexley,  Greenwich</td>\n      <td>LONDON</td>\n      <td>020</td>\n      <td>TQ465785</td>\n      <td>SE2</td>\n    </tr>\n    <tr>\n      <th>1</th>\n      <td>Acton</td>\n      <td>Ealing, Hammersmith and Fulham</td>\n      <td>LONDON</td>\n      <td>020</td>\n      <td>TQ205805</td>\n      <td>W3</td>\n    </tr>\n    <tr>\n      <th>1</th>\n      <td>Acton</td>\n      <td>Ealing, Hammersmith and Fulham</td>\n      <td>LONDON</td>\n      <td>020</td>\n      <td>TQ205805</td>\n      <td>W4</td>\n    </tr>\n    <tr>\n      <th>10</th>\n      <td>Angel</td>\n      <td>Islington</td>\n      <td>LONDON</td>\n      <td>020</td>\n      <td>TQ345665</td>\n      <td>EC1</td>\n    </tr>\n    <tr>\n      <th>10</th>\n      <td>Angel</td>\n      <td>Islington</td>\n      <td>LONDON</td>\n      <td>020</td>\n      <td>TQ345665</td>\n      <td>N1</td>\n    </tr>\n  </tbody>\n</table>\n</div>",
                        "text/plain": "      Location                         Borough Post-town Dial-code OSGridRef  \\\n0   Abbey Wood             Bexley,  Greenwich     LONDON       020  TQ465785   \n1        Acton  Ealing, Hammersmith and Fulham    LONDON       020  TQ205805   \n1        Acton  Ealing, Hammersmith and Fulham    LONDON       020  TQ205805   \n10       Angel                       Islington    LONDON       020  TQ345665   \n10       Angel                       Islington    LONDON       020  TQ345665   \n\n   Postcode  \n0       SE2  \n1        W3  \n1        W4  \n10      EC1  \n10       N1  "
                    },
                    "execution_count": 17,
                    "metadata": {},
                    "output_type": "execute_result"
                }
            ],
            "source": "df0.head(5)"
        },
        {
            "cell_type": "code",
            "execution_count": 18,
            "metadata": {},
            "outputs": [
                {
                    "data": {
                        "text/plain": "(637, 6)"
                    },
                    "execution_count": 18,
                    "metadata": {},
                    "output_type": "execute_result"
                }
            ],
            "source": "df0.shape"
        },
        {
            "cell_type": "markdown",
            "metadata": {},
            "source": "As seen above, there are separate rows for Postcodes - W3and W4; same goes for the others too.\n\nAssumption 2: From the data, only the 'Location', 'Borough', 'Postcode', 'Post-town' will be used for this project. So they are extracted into a new data frame."
        },
        {
            "cell_type": "code",
            "execution_count": 19,
            "metadata": {},
            "outputs": [],
            "source": "df1 = df0[['Location', 'Borough', 'Postcode', 'Post-town']].reset_index(drop=True)"
        },
        {
            "cell_type": "code",
            "execution_count": 20,
            "metadata": {},
            "outputs": [
                {
                    "data": {
                        "text/html": "<div>\n<style scoped>\n    .dataframe tbody tr th:only-of-type {\n        vertical-align: middle;\n    }\n\n    .dataframe tbody tr th {\n        vertical-align: top;\n    }\n\n    .dataframe thead th {\n        text-align: right;\n    }\n</style>\n<table border=\"1\" class=\"dataframe\">\n  <thead>\n    <tr style=\"text-align: right;\">\n      <th></th>\n      <th>Location</th>\n      <th>Borough</th>\n      <th>Postcode</th>\n      <th>Post-town</th>\n    </tr>\n  </thead>\n  <tbody>\n    <tr>\n      <th>0</th>\n      <td>Abbey Wood</td>\n      <td>Bexley,  Greenwich</td>\n      <td>SE2</td>\n      <td>LONDON</td>\n    </tr>\n    <tr>\n      <th>1</th>\n      <td>Acton</td>\n      <td>Ealing, Hammersmith and Fulham</td>\n      <td>W3</td>\n      <td>LONDON</td>\n    </tr>\n    <tr>\n      <th>2</th>\n      <td>Acton</td>\n      <td>Ealing, Hammersmith and Fulham</td>\n      <td>W4</td>\n      <td>LONDON</td>\n    </tr>\n    <tr>\n      <th>3</th>\n      <td>Angel</td>\n      <td>Islington</td>\n      <td>EC1</td>\n      <td>LONDON</td>\n    </tr>\n    <tr>\n      <th>4</th>\n      <td>Angel</td>\n      <td>Islington</td>\n      <td>N1</td>\n      <td>LONDON</td>\n    </tr>\n  </tbody>\n</table>\n</div>",
                        "text/plain": "     Location                         Borough Postcode Post-town\n0  Abbey Wood             Bexley,  Greenwich       SE2    LONDON\n1       Acton  Ealing, Hammersmith and Fulham       W3    LONDON\n2       Acton  Ealing, Hammersmith and Fulham       W4    LONDON\n3       Angel                       Islington      EC1    LONDON\n4       Angel                       Islington       N1    LONDON"
                    },
                    "execution_count": 20,
                    "metadata": {},
                    "output_type": "execute_result"
                }
            ],
            "source": "df1.head(5)"
        },
        {
            "cell_type": "code",
            "execution_count": 21,
            "metadata": {},
            "outputs": [
                {
                    "data": {
                        "text/plain": "(637, 4)"
                    },
                    "execution_count": 21,
                    "metadata": {},
                    "output_type": "execute_result"
                }
            ],
            "source": "df1.shape"
        },
        {
            "cell_type": "markdown",
            "metadata": {},
            "source": "Assumption 3: Now, only the Boroughs with London Post-town will be used for our search of location. Therefore, all the non-post-town are dropped."
        },
        {
            "cell_type": "code",
            "execution_count": 22,
            "metadata": {},
            "outputs": [],
            "source": "df2 = df1\ndf21 = df2[df2['Post-town'].str.contains('LONDON')]"
        },
        {
            "cell_type": "code",
            "execution_count": 23,
            "metadata": {},
            "outputs": [
                {
                    "data": {
                        "text/html": "<div>\n<style scoped>\n    .dataframe tbody tr th:only-of-type {\n        vertical-align: middle;\n    }\n\n    .dataframe tbody tr th {\n        vertical-align: top;\n    }\n\n    .dataframe thead th {\n        text-align: right;\n    }\n</style>\n<table border=\"1\" class=\"dataframe\">\n  <thead>\n    <tr style=\"text-align: right;\">\n      <th></th>\n      <th>Location</th>\n      <th>Borough</th>\n      <th>Postcode</th>\n      <th>Post-town</th>\n    </tr>\n  </thead>\n  <tbody>\n    <tr>\n      <th>0</th>\n      <td>Abbey Wood</td>\n      <td>Bexley,  Greenwich</td>\n      <td>SE2</td>\n      <td>LONDON</td>\n    </tr>\n    <tr>\n      <th>1</th>\n      <td>Acton</td>\n      <td>Ealing, Hammersmith and Fulham</td>\n      <td>W3</td>\n      <td>LONDON</td>\n    </tr>\n    <tr>\n      <th>2</th>\n      <td>Acton</td>\n      <td>Ealing, Hammersmith and Fulham</td>\n      <td>W4</td>\n      <td>LONDON</td>\n    </tr>\n    <tr>\n      <th>3</th>\n      <td>Angel</td>\n      <td>Islington</td>\n      <td>EC1</td>\n      <td>LONDON</td>\n    </tr>\n    <tr>\n      <th>4</th>\n      <td>Angel</td>\n      <td>Islington</td>\n      <td>N1</td>\n      <td>LONDON</td>\n    </tr>\n  </tbody>\n</table>\n</div>",
                        "text/plain": "     Location                         Borough Postcode Post-town\n0  Abbey Wood             Bexley,  Greenwich       SE2    LONDON\n1       Acton  Ealing, Hammersmith and Fulham       W3    LONDON\n2       Acton  Ealing, Hammersmith and Fulham       W4    LONDON\n3       Angel                       Islington      EC1    LONDON\n4       Angel                       Islington       N1    LONDON"
                    },
                    "execution_count": 23,
                    "metadata": {},
                    "output_type": "execute_result"
                }
            ],
            "source": "df21.head(5)"
        },
        {
            "cell_type": "code",
            "execution_count": 24,
            "metadata": {},
            "outputs": [
                {
                    "data": {
                        "text/plain": "(381, 4)"
                    },
                    "execution_count": 24,
                    "metadata": {},
                    "output_type": "execute_result"
                }
            ],
            "source": "df21.shape"
        },
        {
            "cell_type": "markdown",
            "metadata": {},
            "source": "From assumption 3, there are now 380 instances, which is a drop from 638 because of the drop of non-London post-towns."
        },
        {
            "cell_type": "code",
            "execution_count": 25,
            "metadata": {},
            "outputs": [],
            "source": "# Re-assigns the df21 to new dataframe without the Post-town\ndf3 = df21[['Location', 'Borough', 'Postcode']].reset_index(drop=True)"
        },
        {
            "cell_type": "code",
            "execution_count": 26,
            "metadata": {},
            "outputs": [
                {
                    "data": {
                        "text/html": "<div>\n<style scoped>\n    .dataframe tbody tr th:only-of-type {\n        vertical-align: middle;\n    }\n\n    .dataframe tbody tr th {\n        vertical-align: top;\n    }\n\n    .dataframe thead th {\n        text-align: right;\n    }\n</style>\n<table border=\"1\" class=\"dataframe\">\n  <thead>\n    <tr style=\"text-align: right;\">\n      <th></th>\n      <th>Location</th>\n      <th>Borough</th>\n      <th>Postcode</th>\n    </tr>\n  </thead>\n  <tbody>\n    <tr>\n      <th>0</th>\n      <td>Abbey Wood</td>\n      <td>Bexley,  Greenwich</td>\n      <td>SE2</td>\n    </tr>\n    <tr>\n      <th>1</th>\n      <td>Acton</td>\n      <td>Ealing, Hammersmith and Fulham</td>\n      <td>W3</td>\n    </tr>\n    <tr>\n      <th>2</th>\n      <td>Acton</td>\n      <td>Ealing, Hammersmith and Fulham</td>\n      <td>W4</td>\n    </tr>\n    <tr>\n      <th>3</th>\n      <td>Angel</td>\n      <td>Islington</td>\n      <td>EC1</td>\n    </tr>\n    <tr>\n      <th>4</th>\n      <td>Angel</td>\n      <td>Islington</td>\n      <td>N1</td>\n    </tr>\n    <tr>\n      <th>5</th>\n      <td>Church End</td>\n      <td>Brent</td>\n      <td>NW10</td>\n    </tr>\n    <tr>\n      <th>6</th>\n      <td>Church End</td>\n      <td>Barnet</td>\n      <td>N3</td>\n    </tr>\n    <tr>\n      <th>7</th>\n      <td>Clapham</td>\n      <td>Lambeth, Wandsworth</td>\n      <td>SW4</td>\n    </tr>\n    <tr>\n      <th>8</th>\n      <td>Clerkenwell</td>\n      <td>Islington</td>\n      <td>EC1</td>\n    </tr>\n    <tr>\n      <th>9</th>\n      <td>Colindale</td>\n      <td>Barnet</td>\n      <td>NW9</td>\n    </tr>\n  </tbody>\n</table>\n</div>",
                        "text/plain": "      Location                         Borough Postcode\n0   Abbey Wood             Bexley,  Greenwich       SE2\n1        Acton  Ealing, Hammersmith and Fulham       W3\n2        Acton  Ealing, Hammersmith and Fulham       W4\n3        Angel                       Islington      EC1\n4        Angel                       Islington       N1\n5   Church End                           Brent     NW10\n6   Church End                          Barnet       N3\n7      Clapham             Lambeth, Wandsworth      SW4\n8  Clerkenwell                       Islington      EC1\n9    Colindale                          Barnet      NW9"
                    },
                    "execution_count": 26,
                    "metadata": {},
                    "output_type": "execute_result"
                }
            ],
            "source": "df3.head(10)"
        },
        {
            "cell_type": "code",
            "execution_count": 27,
            "metadata": {},
            "outputs": [],
            "source": "df_london = df3\ndf_london.to_csv('LondonLocations.csv', index = False)"
        },
        {
            "cell_type": "markdown",
            "metadata": {},
            "source": "Assumption 4: Due to its more diverse outlook, proximity to afro-caribbean markets and accessible facilities, only the South East areas of London will be considered for our analysis. The South East areas has postcodes starting with SE.\n\nSo, first, we remove the whitesapaces at the start of some of the postcodes and then drop the other non-SE postcodes."
        },
        {
            "cell_type": "code",
            "execution_count": 28,
            "metadata": {},
            "outputs": [
                {
                    "data": {
                        "text/html": "<div>\n<style scoped>\n    .dataframe tbody tr th:only-of-type {\n        vertical-align: middle;\n    }\n\n    .dataframe tbody tr th {\n        vertical-align: top;\n    }\n\n    .dataframe thead th {\n        text-align: right;\n    }\n</style>\n<table border=\"1\" class=\"dataframe\">\n  <thead>\n    <tr style=\"text-align: right;\">\n      <th></th>\n      <th>Location</th>\n      <th>Borough</th>\n      <th>Postcode</th>\n    </tr>\n  </thead>\n  <tbody>\n    <tr>\n      <th>0</th>\n      <td>Abbey Wood</td>\n      <td>Bexley,  Greenwich</td>\n      <td>SE2</td>\n    </tr>\n    <tr>\n      <th>1</th>\n      <td>Acton</td>\n      <td>Ealing, Hammersmith and Fulham</td>\n      <td>W3</td>\n    </tr>\n    <tr>\n      <th>2</th>\n      <td>Acton</td>\n      <td>Ealing, Hammersmith and Fulham</td>\n      <td>W4</td>\n    </tr>\n    <tr>\n      <th>3</th>\n      <td>Angel</td>\n      <td>Islington</td>\n      <td>EC1</td>\n    </tr>\n    <tr>\n      <th>4</th>\n      <td>Angel</td>\n      <td>Islington</td>\n      <td>N1</td>\n    </tr>\n  </tbody>\n</table>\n</div>",
                        "text/plain": "     Location                         Borough Postcode\n0  Abbey Wood             Bexley,  Greenwich       SE2\n1       Acton  Ealing, Hammersmith and Fulham       W3\n2       Acton  Ealing, Hammersmith and Fulham       W4\n3       Angel                       Islington      EC1\n4       Angel                       Islington       N1"
                    },
                    "execution_count": 28,
                    "metadata": {},
                    "output_type": "execute_result"
                }
            ],
            "source": "df_london.head(5)"
        },
        {
            "cell_type": "code",
            "execution_count": 29,
            "metadata": {},
            "outputs": [],
            "source": "df_london.Postcode = df_london.Postcode.str.strip()"
        },
        {
            "cell_type": "code",
            "execution_count": 30,
            "metadata": {},
            "outputs": [
                {
                    "data": {
                        "text/html": "<div>\n<style scoped>\n    .dataframe tbody tr th:only-of-type {\n        vertical-align: middle;\n    }\n\n    .dataframe tbody tr th {\n        vertical-align: top;\n    }\n\n    .dataframe thead th {\n        text-align: right;\n    }\n</style>\n<table border=\"1\" class=\"dataframe\">\n  <thead>\n    <tr style=\"text-align: right;\">\n      <th></th>\n      <th>Location</th>\n      <th>Borough</th>\n      <th>Postcode</th>\n    </tr>\n  </thead>\n  <tbody>\n    <tr>\n      <th>0</th>\n      <td>Abbey Wood</td>\n      <td>Bexley,  Greenwich</td>\n      <td>SE2</td>\n    </tr>\n    <tr>\n      <th>1</th>\n      <td>Acton</td>\n      <td>Ealing, Hammersmith and Fulham</td>\n      <td>W3</td>\n    </tr>\n    <tr>\n      <th>2</th>\n      <td>Acton</td>\n      <td>Ealing, Hammersmith and Fulham</td>\n      <td>W4</td>\n    </tr>\n    <tr>\n      <th>3</th>\n      <td>Angel</td>\n      <td>Islington</td>\n      <td>EC1</td>\n    </tr>\n    <tr>\n      <th>4</th>\n      <td>Angel</td>\n      <td>Islington</td>\n      <td>N1</td>\n    </tr>\n  </tbody>\n</table>\n</div>",
                        "text/plain": "     Location                         Borough Postcode\n0  Abbey Wood             Bexley,  Greenwich       SE2\n1       Acton  Ealing, Hammersmith and Fulham       W3\n2       Acton  Ealing, Hammersmith and Fulham       W4\n3       Angel                       Islington      EC1\n4       Angel                       Islington       N1"
                    },
                    "execution_count": 30,
                    "metadata": {},
                    "output_type": "execute_result"
                }
            ],
            "source": "df_london.head(5)"
        },
        {
            "cell_type": "code",
            "execution_count": 31,
            "metadata": {},
            "outputs": [],
            "source": "# New dataframe for South East London postcodes - df_se\ndf_se = df_london[df_london['Postcode'].str.startswith(('SE'))].reset_index(drop=True)"
        },
        {
            "cell_type": "code",
            "execution_count": 32,
            "metadata": {},
            "outputs": [
                {
                    "data": {
                        "text/html": "<div>\n<style scoped>\n    .dataframe tbody tr th:only-of-type {\n        vertical-align: middle;\n    }\n\n    .dataframe tbody tr th {\n        vertical-align: top;\n    }\n\n    .dataframe thead th {\n        text-align: right;\n    }\n</style>\n<table border=\"1\" class=\"dataframe\">\n  <thead>\n    <tr style=\"text-align: right;\">\n      <th></th>\n      <th>Location</th>\n      <th>Borough</th>\n      <th>Postcode</th>\n    </tr>\n  </thead>\n  <tbody>\n    <tr>\n      <th>0</th>\n      <td>Abbey Wood</td>\n      <td>Bexley,  Greenwich</td>\n      <td>SE2</td>\n    </tr>\n    <tr>\n      <th>1</th>\n      <td>Crofton Park</td>\n      <td>Lewisham</td>\n      <td>SE4</td>\n    </tr>\n    <tr>\n      <th>2</th>\n      <td>Crossness</td>\n      <td>Bexley</td>\n      <td>SE2</td>\n    </tr>\n    <tr>\n      <th>3</th>\n      <td>Crystal Palace</td>\n      <td>Bromley</td>\n      <td>SE19</td>\n    </tr>\n    <tr>\n      <th>4</th>\n      <td>Crystal Palace</td>\n      <td>Bromley</td>\n      <td>SE20</td>\n    </tr>\n    <tr>\n      <th>5</th>\n      <td>Crystal Palace</td>\n      <td>Bromley</td>\n      <td>SE26</td>\n    </tr>\n    <tr>\n      <th>6</th>\n      <td>Denmark Hill</td>\n      <td>Southwark</td>\n      <td>SE5</td>\n    </tr>\n    <tr>\n      <th>7</th>\n      <td>Deptford</td>\n      <td>Lewisham</td>\n      <td>SE8</td>\n    </tr>\n    <tr>\n      <th>8</th>\n      <td>Dulwich</td>\n      <td>Southwark</td>\n      <td>SE21</td>\n    </tr>\n    <tr>\n      <th>9</th>\n      <td>East Dulwich</td>\n      <td>Southwark</td>\n      <td>SE22</td>\n    </tr>\n  </tbody>\n</table>\n</div>",
                        "text/plain": "         Location              Borough Postcode\n0      Abbey Wood  Bexley,  Greenwich       SE2\n1    Crofton Park             Lewisham      SE4\n2       Crossness               Bexley      SE2\n3  Crystal Palace              Bromley     SE19\n4  Crystal Palace              Bromley     SE20\n5  Crystal Palace              Bromley     SE26\n6    Denmark Hill            Southwark      SE5\n7        Deptford             Lewisham      SE8\n8         Dulwich            Southwark     SE21\n9    East Dulwich            Southwark     SE22"
                    },
                    "execution_count": 32,
                    "metadata": {},
                    "output_type": "execute_result"
                }
            ],
            "source": "df_se.head(10)"
        },
        {
            "cell_type": "markdown",
            "metadata": {},
            "source": "Now, our data is ready. df_se is the data we will focus on.\n\nAssumption 5: This assumption will focus on the demography of London where there are predominantly more multicultural groups. According to the proportion of races by London borough as seen in Demography of London, the top 5 Black Africans or Caribbeans are shown below:"
        },
        {
            "cell_type": "code",
            "execution_count": 33,
            "metadata": {},
            "outputs": [],
            "source": "demograph_link = 'https://en.wikipedia.org/wiki/Demography_of_London'\nheaders = {'User-Agent': 'Mozilla/5.0 (Windows NT 10.0; Win64; x64; rv:64.0) Gecko/20100101 Firefox/64.0'}\ndemograph_page = requests.get(demograph_link, headers = headers)\nsoup1 = BeautifulSoup(demograph_page.content, 'html.parser')\ntable1 = soup1.find('table', {'class':'wikitable sortable'}).tbody\nrows1 = table1.find_all('tr')\ncolumns1 = [i.text.replace('\\n', '')\n           for i in rows1[0].find_all('th')]"
        },
        {
            "cell_type": "code",
            "execution_count": 34,
            "metadata": {},
            "outputs": [
                {
                    "data": {
                        "text/plain": "['Local authority', 'White', 'Mixed', 'Asian', 'Black', 'Other']"
                    },
                    "execution_count": 34,
                    "metadata": {},
                    "output_type": "execute_result"
                }
            ],
            "source": "columns1"
        },
        {
            "cell_type": "code",
            "execution_count": 35,
            "metadata": {},
            "outputs": [],
            "source": "demo_london = pd.DataFrame(columns = columns1)"
        },
        {
            "cell_type": "code",
            "execution_count": 36,
            "metadata": {},
            "outputs": [
                {
                    "data": {
                        "text/html": "<div>\n<style scoped>\n    .dataframe tbody tr th:only-of-type {\n        vertical-align: middle;\n    }\n\n    .dataframe tbody tr th {\n        vertical-align: top;\n    }\n\n    .dataframe thead th {\n        text-align: right;\n    }\n</style>\n<table border=\"1\" class=\"dataframe\">\n  <thead>\n    <tr style=\"text-align: right;\">\n      <th></th>\n      <th>Local authority</th>\n      <th>White</th>\n      <th>Mixed</th>\n      <th>Asian</th>\n      <th>Black</th>\n      <th>Other</th>\n    </tr>\n  </thead>\n  <tbody>\n  </tbody>\n</table>\n</div>",
                        "text/plain": "Empty DataFrame\nColumns: [Local authority, White, Mixed, Asian, Black, Other]\nIndex: []"
                    },
                    "execution_count": 36,
                    "metadata": {},
                    "output_type": "execute_result"
                }
            ],
            "source": "demo_london.head(5)"
        },
        {
            "cell_type": "code",
            "execution_count": 37,
            "metadata": {},
            "outputs": [],
            "source": "for j in range(1, len(rows1)):\n    tds1 = rows1[j].find_all('td')\n    if len(tds1) == 7:\n        values1 = [tds1[0].text, tds1[1].text, tds1[2].text.replace('\\n', ''.replace('\\xa0','')), tds1[3].text, tds1[4].text.replace('\\n', ''.replace('\\xa0','')), tds1[5].text.replace('\\n', ''.replace('\\xa0',''))]\n    else:\n        values1 = [td1.text.replace('\\n', '').replace('\\xa0','') for td1 in tds1]\n        \n        demo_london = demo_london.append(pd.Series(values1, index = columns1), ignore_index = True)\n\n        demo_london"
        },
        {
            "cell_type": "code",
            "execution_count": 38,
            "metadata": {},
            "outputs": [],
            "source": "demo_london['Black'] = demo_london['Black'].astype('float')"
        },
        {
            "cell_type": "code",
            "execution_count": 39,
            "metadata": {},
            "outputs": [],
            "source": "demo_london_sorted = demo_london.sort_values(by='Black', ascending = False)"
        },
        {
            "cell_type": "code",
            "execution_count": 40,
            "metadata": {},
            "outputs": [
                {
                    "data": {
                        "text/html": "<div>\n<style scoped>\n    .dataframe tbody tr th:only-of-type {\n        vertical-align: middle;\n    }\n\n    .dataframe tbody tr th {\n        vertical-align: top;\n    }\n\n    .dataframe thead th {\n        text-align: right;\n    }\n</style>\n<table border=\"1\" class=\"dataframe\">\n  <thead>\n    <tr style=\"text-align: right;\">\n      <th></th>\n      <th>Local authority</th>\n      <th>White</th>\n      <th>Mixed</th>\n      <th>Asian</th>\n      <th>Black</th>\n      <th>Other</th>\n    </tr>\n  </thead>\n  <tbody>\n    <tr>\n      <th>22</th>\n      <td>Lewisham</td>\n      <td>53.5</td>\n      <td>7.4</td>\n      <td>9.3</td>\n      <td>27.2</td>\n      <td>2.6</td>\n    </tr>\n    <tr>\n      <th>27</th>\n      <td>Southwark</td>\n      <td>54.3</td>\n      <td>6.2</td>\n      <td>9.4</td>\n      <td>26.9</td>\n      <td>3.3</td>\n    </tr>\n    <tr>\n      <th>21</th>\n      <td>Lambeth</td>\n      <td>57.1</td>\n      <td>7.6</td>\n      <td>6.9</td>\n      <td>25.9</td>\n      <td>2.4</td>\n    </tr>\n    <tr>\n      <th>11</th>\n      <td>Hackney</td>\n      <td>54.7</td>\n      <td>6.4</td>\n      <td>10.5</td>\n      <td>23.1</td>\n      <td>5.3</td>\n    </tr>\n    <tr>\n      <th>7</th>\n      <td>Croydon</td>\n      <td>55.1</td>\n      <td>6.6</td>\n      <td>16.4</td>\n      <td>20.2</td>\n      <td>1.8</td>\n    </tr>\n  </tbody>\n</table>\n</div>",
                        "text/plain": "   Local authority White Mixed Asian  Black Other\n22        Lewisham  53.5   7.4   9.3   27.2   2.6\n27       Southwark  54.3   6.2   9.4   26.9   3.3\n21         Lambeth  57.1   7.6   6.9   25.9   2.4\n11         Hackney  54.7   6.4  10.5   23.1   5.3\n7          Croydon  55.1   6.6  16.4   20.2   1.8"
                    },
                    "execution_count": 40,
                    "metadata": {},
                    "output_type": "execute_result"
                }
            ],
            "source": "demo_london_sorted.head(5)"
        },
        {
            "cell_type": "markdown",
            "metadata": {},
            "source": "Assumption 6: Our next assumption will be based on the top 5 areas will significantly high \"Black\", \"Mixed\" and other races. These leaves us with Lewisham, Southwark, Lambeth, Hackney and Croydon."
        },
        {
            "cell_type": "code",
            "execution_count": 41,
            "metadata": {},
            "outputs": [
                {
                    "data": {
                        "text/html": "<div>\n<style scoped>\n    .dataframe tbody tr th:only-of-type {\n        vertical-align: middle;\n    }\n\n    .dataframe tbody tr th {\n        vertical-align: top;\n    }\n\n    .dataframe thead th {\n        text-align: right;\n    }\n</style>\n<table border=\"1\" class=\"dataframe\">\n  <thead>\n    <tr style=\"text-align: right;\">\n      <th></th>\n      <th>Location</th>\n      <th>Borough</th>\n      <th>Postcode</th>\n    </tr>\n  </thead>\n  <tbody>\n    <tr>\n      <th>0</th>\n      <td>Abbey Wood</td>\n      <td>Bexley,  Greenwich</td>\n      <td>SE2</td>\n    </tr>\n    <tr>\n      <th>1</th>\n      <td>Crofton Park</td>\n      <td>Lewisham</td>\n      <td>SE4</td>\n    </tr>\n    <tr>\n      <th>2</th>\n      <td>Crossness</td>\n      <td>Bexley</td>\n      <td>SE2</td>\n    </tr>\n    <tr>\n      <th>3</th>\n      <td>Crystal Palace</td>\n      <td>Bromley</td>\n      <td>SE19</td>\n    </tr>\n    <tr>\n      <th>4</th>\n      <td>Crystal Palace</td>\n      <td>Bromley</td>\n      <td>SE20</td>\n    </tr>\n    <tr>\n      <th>5</th>\n      <td>Crystal Palace</td>\n      <td>Bromley</td>\n      <td>SE26</td>\n    </tr>\n    <tr>\n      <th>6</th>\n      <td>Denmark Hill</td>\n      <td>Southwark</td>\n      <td>SE5</td>\n    </tr>\n    <tr>\n      <th>7</th>\n      <td>Deptford</td>\n      <td>Lewisham</td>\n      <td>SE8</td>\n    </tr>\n    <tr>\n      <th>8</th>\n      <td>Dulwich</td>\n      <td>Southwark</td>\n      <td>SE21</td>\n    </tr>\n    <tr>\n      <th>9</th>\n      <td>East Dulwich</td>\n      <td>Southwark</td>\n      <td>SE22</td>\n    </tr>\n    <tr>\n      <th>10</th>\n      <td>Elephant and Castle</td>\n      <td>Southwark</td>\n      <td>SE1</td>\n    </tr>\n    <tr>\n      <th>11</th>\n      <td>Elephant and Castle</td>\n      <td>Southwark</td>\n      <td>SE11</td>\n    </tr>\n    <tr>\n      <th>12</th>\n      <td>Elephant and Castle</td>\n      <td>Southwark</td>\n      <td>SE17</td>\n    </tr>\n    <tr>\n      <th>13</th>\n      <td>Eltham</td>\n      <td>Greenwich</td>\n      <td>SE9</td>\n    </tr>\n    <tr>\n      <th>14</th>\n      <td>Falconwood</td>\n      <td>Bexley, Greenwich</td>\n      <td>SE9</td>\n    </tr>\n    <tr>\n      <th>15</th>\n      <td>Bankside</td>\n      <td>Southwark</td>\n      <td>SE1</td>\n    </tr>\n    <tr>\n      <th>16</th>\n      <td>Forest Hill</td>\n      <td>Lewisham</td>\n      <td>SE23</td>\n    </tr>\n    <tr>\n      <th>17</th>\n      <td>Gipsy Hill</td>\n      <td>Lambeth</td>\n      <td>SE19</td>\n    </tr>\n    <tr>\n      <th>18</th>\n      <td>Gipsy Hill</td>\n      <td>Lambeth</td>\n      <td>SE27</td>\n    </tr>\n    <tr>\n      <th>19</th>\n      <td>Greenwich</td>\n      <td>Greenwich</td>\n      <td>SE10</td>\n    </tr>\n    <tr>\n      <th>20</th>\n      <td>Grove Park</td>\n      <td>Lewisham</td>\n      <td>SE12</td>\n    </tr>\n    <tr>\n      <th>21</th>\n      <td>Herne Hill</td>\n      <td>Lambeth</td>\n      <td>SE24</td>\n    </tr>\n    <tr>\n      <th>22</th>\n      <td>Hither Green</td>\n      <td>Lewisham</td>\n      <td>SE13</td>\n    </tr>\n    <tr>\n      <th>23</th>\n      <td>Honor Oak</td>\n      <td>Lewisham</td>\n      <td>SE23</td>\n    </tr>\n    <tr>\n      <th>24</th>\n      <td>Horn Park</td>\n      <td>Greenwich, Lewisham</td>\n      <td>SE12</td>\n    </tr>\n    <tr>\n      <th>25</th>\n      <td>Kennington</td>\n      <td>Lambeth, Southwark</td>\n      <td>SE11</td>\n    </tr>\n    <tr>\n      <th>26</th>\n      <td>Kidbrooke</td>\n      <td>Greenwich</td>\n      <td>SE3</td>\n    </tr>\n    <tr>\n      <th>27</th>\n      <td>Ladywell</td>\n      <td>Lewisham</td>\n      <td>SE4</td>\n    </tr>\n    <tr>\n      <th>28</th>\n      <td>Ladywell</td>\n      <td>Lewisham</td>\n      <td>SE13</td>\n    </tr>\n    <tr>\n      <th>29</th>\n      <td>Lambeth</td>\n      <td>Lambeth</td>\n      <td>SE1</td>\n    </tr>\n    <tr>\n      <th>30</th>\n      <td>Lee</td>\n      <td>Lewisham</td>\n      <td>SE12</td>\n    </tr>\n    <tr>\n      <th>31</th>\n      <td>Lewisham</td>\n      <td>Lewisham</td>\n      <td>SE13</td>\n    </tr>\n    <tr>\n      <th>32</th>\n      <td>Beckenham</td>\n      <td>Bromley</td>\n      <td>SE20</td>\n    </tr>\n    <tr>\n      <th>33</th>\n      <td>Longlands</td>\n      <td>Bexley</td>\n      <td>SE9</td>\n    </tr>\n    <tr>\n      <th>34</th>\n      <td>Maze Hill</td>\n      <td>Greenwich</td>\n      <td>SE10</td>\n    </tr>\n    <tr>\n      <th>35</th>\n      <td>Middle Park</td>\n      <td>Greenwich</td>\n      <td>SE9</td>\n    </tr>\n    <tr>\n      <th>36</th>\n      <td>Mottingham</td>\n      <td>Bromley</td>\n      <td>SE9</td>\n    </tr>\n    <tr>\n      <th>37</th>\n      <td>New Cross</td>\n      <td>Lewisham</td>\n      <td>SE14</td>\n    </tr>\n    <tr>\n      <th>38</th>\n      <td>New Eltham</td>\n      <td>Greenwich</td>\n      <td>SE9</td>\n    </tr>\n    <tr>\n      <th>39</th>\n      <td>Newington</td>\n      <td>Southwark</td>\n      <td>SE1</td>\n    </tr>\n    <tr>\n      <th>40</th>\n      <td>Newington</td>\n      <td>Southwark</td>\n      <td>SE17</td>\n    </tr>\n    <tr>\n      <th>41</th>\n      <td>Nunhead</td>\n      <td>Southwark</td>\n      <td>SE15</td>\n    </tr>\n    <tr>\n      <th>42</th>\n      <td>Oval</td>\n      <td>Lambeth</td>\n      <td>SE11</td>\n    </tr>\n    <tr>\n      <th>43</th>\n      <td>Bellingham</td>\n      <td>Lewisham</td>\n      <td>SE6</td>\n    </tr>\n    <tr>\n      <th>44</th>\n      <td>Peckham</td>\n      <td>Southwark</td>\n      <td>SE15</td>\n    </tr>\n    <tr>\n      <th>45</th>\n      <td>Penge</td>\n      <td>Bromley</td>\n      <td>SE20</td>\n    </tr>\n    <tr>\n      <th>46</th>\n      <td>Plumstead</td>\n      <td>Greenwich</td>\n      <td>SE18</td>\n    </tr>\n    <tr>\n      <th>47</th>\n      <td>Rotherhithe</td>\n      <td>Southwark</td>\n      <td>SE16</td>\n    </tr>\n    <tr>\n      <th>48</th>\n      <td>Selhurst</td>\n      <td>Croydon</td>\n      <td>SE25</td>\n    </tr>\n    <tr>\n      <th>49</th>\n      <td>Shooter's Hill</td>\n      <td>Greenwich</td>\n      <td>SE18</td>\n    </tr>\n    <tr>\n      <th>50</th>\n      <td>Bermondsey</td>\n      <td>Southwark</td>\n      <td>SE1</td>\n    </tr>\n    <tr>\n      <th>51</th>\n      <td>South Norwood</td>\n      <td>Croydon</td>\n      <td>SE25</td>\n    </tr>\n    <tr>\n      <th>52</th>\n      <td>Southend</td>\n      <td>Lewisham</td>\n      <td>SE6</td>\n    </tr>\n    <tr>\n      <th>53</th>\n      <td>St Johns</td>\n      <td>Lewisham</td>\n      <td>SE4</td>\n    </tr>\n    <tr>\n      <th>54</th>\n      <td>Bexleyheath (also Bexley New Town)</td>\n      <td>Bexley</td>\n      <td>SE2</td>\n    </tr>\n    <tr>\n      <th>55</th>\n      <td>Surrey Quays</td>\n      <td>Southwark</td>\n      <td>SE16</td>\n    </tr>\n    <tr>\n      <th>56</th>\n      <td>Sydenham (also Lower Sydenham, Upper Sydenham)</td>\n      <td>Lewisham, Bromley</td>\n      <td>SE26</td>\n    </tr>\n    <tr>\n      <th>57</th>\n      <td>Sydenham Hill</td>\n      <td>Lewisham, Southwark</td>\n      <td>SE21</td>\n    </tr>\n    <tr>\n      <th>58</th>\n      <td>Sydenham Hill</td>\n      <td>Lewisham, Southwark</td>\n      <td>SE26</td>\n    </tr>\n    <tr>\n      <th>59</th>\n      <td>Thamesmead</td>\n      <td>Bexley, Greenwich</td>\n      <td>SE28</td>\n    </tr>\n    <tr>\n      <th>60</th>\n      <td>Thamesmead</td>\n      <td>Bexley, Greenwich</td>\n      <td>SE2</td>\n    </tr>\n    <tr>\n      <th>61</th>\n      <td>Tulse Hill</td>\n      <td>Lambeth</td>\n      <td>SE24</td>\n    </tr>\n    <tr>\n      <th>62</th>\n      <td>Tulse Hill</td>\n      <td>Lambeth</td>\n      <td>SE27</td>\n    </tr>\n    <tr>\n      <th>63</th>\n      <td>Upper Norwood</td>\n      <td>Croydon</td>\n      <td>SE19</td>\n    </tr>\n    <tr>\n      <th>64</th>\n      <td>Walworth</td>\n      <td>Southwark</td>\n      <td>SE17</td>\n    </tr>\n    <tr>\n      <th>65</th>\n      <td>Well Hall</td>\n      <td>Greenwich</td>\n      <td>SE9</td>\n    </tr>\n    <tr>\n      <th>66</th>\n      <td>Blackheath</td>\n      <td>Lewisham</td>\n      <td>SE3</td>\n    </tr>\n    <tr>\n      <th>67</th>\n      <td>West Heath</td>\n      <td>Bexley</td>\n      <td>SE2</td>\n    </tr>\n    <tr>\n      <th>68</th>\n      <td>Blackheath Royal Standard</td>\n      <td>Greenwich</td>\n      <td>SE3</td>\n    </tr>\n    <tr>\n      <th>69</th>\n      <td>Blackheath Royal Standard</td>\n      <td>Greenwich</td>\n      <td>SE12</td>\n    </tr>\n    <tr>\n      <th>70</th>\n      <td>West Norwood</td>\n      <td>Lambeth</td>\n      <td>SE27</td>\n    </tr>\n    <tr>\n      <th>71</th>\n      <td>Westcombe Park</td>\n      <td>Greenwich</td>\n      <td>SE3</td>\n    </tr>\n    <tr>\n      <th>72</th>\n      <td>Woolwich</td>\n      <td>Greenwich</td>\n      <td>SE18</td>\n    </tr>\n    <tr>\n      <th>73</th>\n      <td>Brixton</td>\n      <td>Lambeth</td>\n      <td>SE5</td>\n    </tr>\n    <tr>\n      <th>74</th>\n      <td>Brockley</td>\n      <td>Lewisham</td>\n      <td>SE4</td>\n    </tr>\n    <tr>\n      <th>75</th>\n      <td>Camberwell</td>\n      <td>Southwark</td>\n      <td>SE5</td>\n    </tr>\n    <tr>\n      <th>76</th>\n      <td>Catford</td>\n      <td>Lewisham</td>\n      <td>SE6</td>\n    </tr>\n    <tr>\n      <th>77</th>\n      <td>Charlton</td>\n      <td>Greenwich</td>\n      <td>SE7</td>\n    </tr>\n    <tr>\n      <th>78</th>\n      <td>Anerley</td>\n      <td>Bromley</td>\n      <td>SE20</td>\n    </tr>\n    <tr>\n      <th>79</th>\n      <td>Chinbrook</td>\n      <td>Lewisham</td>\n      <td>SE12</td>\n    </tr>\n  </tbody>\n</table>\n</div>",
                        "text/plain": "                                          Location              Borough  \\\n0                                       Abbey Wood  Bexley,  Greenwich    \n1                                     Crofton Park             Lewisham   \n2                                        Crossness               Bexley   \n3                                   Crystal Palace              Bromley   \n4                                   Crystal Palace              Bromley   \n5                                   Crystal Palace              Bromley   \n6                                     Denmark Hill            Southwark   \n7                                         Deptford             Lewisham   \n8                                          Dulwich            Southwark   \n9                                     East Dulwich            Southwark   \n10                             Elephant and Castle            Southwark   \n11                             Elephant and Castle            Southwark   \n12                             Elephant and Castle            Southwark   \n13                                          Eltham            Greenwich   \n14                                      Falconwood    Bexley, Greenwich   \n15                                        Bankside            Southwark   \n16                                     Forest Hill             Lewisham   \n17                                      Gipsy Hill              Lambeth   \n18                                      Gipsy Hill              Lambeth   \n19                                       Greenwich            Greenwich   \n20                                      Grove Park             Lewisham   \n21                                      Herne Hill              Lambeth   \n22                                    Hither Green             Lewisham   \n23                                       Honor Oak             Lewisham   \n24                                       Horn Park  Greenwich, Lewisham   \n25                                      Kennington   Lambeth, Southwark   \n26                                       Kidbrooke            Greenwich   \n27                                        Ladywell             Lewisham   \n28                                        Ladywell             Lewisham   \n29                                         Lambeth              Lambeth   \n30                                             Lee             Lewisham   \n31                                        Lewisham             Lewisham   \n32                                       Beckenham              Bromley   \n33                                       Longlands               Bexley   \n34                                       Maze Hill            Greenwich   \n35                                     Middle Park            Greenwich   \n36                                      Mottingham              Bromley   \n37                                       New Cross             Lewisham   \n38                                      New Eltham            Greenwich   \n39                                       Newington            Southwark   \n40                                       Newington            Southwark   \n41                                         Nunhead            Southwark   \n42                                            Oval              Lambeth   \n43                                      Bellingham             Lewisham   \n44                                         Peckham            Southwark   \n45                                           Penge              Bromley   \n46                                       Plumstead            Greenwich   \n47                                     Rotherhithe            Southwark   \n48                                        Selhurst              Croydon   \n49                                  Shooter's Hill            Greenwich   \n50                                      Bermondsey            Southwark   \n51                                   South Norwood              Croydon   \n52                                        Southend             Lewisham   \n53                                        St Johns             Lewisham   \n54              Bexleyheath (also Bexley New Town)               Bexley   \n55                                    Surrey Quays            Southwark   \n56  Sydenham (also Lower Sydenham, Upper Sydenham)    Lewisham, Bromley   \n57                                   Sydenham Hill  Lewisham, Southwark   \n58                                   Sydenham Hill  Lewisham, Southwark   \n59                                      Thamesmead    Bexley, Greenwich   \n60                                      Thamesmead    Bexley, Greenwich   \n61                                      Tulse Hill              Lambeth   \n62                                      Tulse Hill              Lambeth   \n63                                   Upper Norwood              Croydon   \n64                                        Walworth            Southwark   \n65                                       Well Hall            Greenwich   \n66                                      Blackheath             Lewisham   \n67                                      West Heath               Bexley   \n68                       Blackheath Royal Standard            Greenwich   \n69                       Blackheath Royal Standard            Greenwich   \n70                                    West Norwood              Lambeth   \n71                                  Westcombe Park            Greenwich   \n72                                        Woolwich            Greenwich   \n73                                         Brixton              Lambeth   \n74                                        Brockley             Lewisham   \n75                                      Camberwell            Southwark   \n76                                         Catford             Lewisham   \n77                                        Charlton            Greenwich   \n78                                         Anerley              Bromley   \n79                                       Chinbrook             Lewisham   \n\n   Postcode  \n0       SE2  \n1       SE4  \n2       SE2  \n3      SE19  \n4      SE20  \n5      SE26  \n6       SE5  \n7       SE8  \n8      SE21  \n9      SE22  \n10      SE1  \n11     SE11  \n12     SE17  \n13      SE9  \n14      SE9  \n15      SE1  \n16     SE23  \n17     SE19  \n18     SE27  \n19     SE10  \n20     SE12  \n21     SE24  \n22     SE13  \n23     SE23  \n24     SE12  \n25     SE11  \n26      SE3  \n27      SE4  \n28     SE13  \n29      SE1  \n30     SE12  \n31     SE13  \n32     SE20  \n33      SE9  \n34     SE10  \n35      SE9  \n36      SE9  \n37     SE14  \n38      SE9  \n39      SE1  \n40     SE17  \n41     SE15  \n42     SE11  \n43      SE6  \n44     SE15  \n45     SE20  \n46     SE18  \n47     SE16  \n48     SE25  \n49     SE18  \n50      SE1  \n51     SE25  \n52      SE6  \n53      SE4  \n54      SE2  \n55     SE16  \n56     SE26  \n57     SE21  \n58     SE26  \n59     SE28  \n60      SE2  \n61     SE24  \n62     SE27  \n63     SE19  \n64     SE17  \n65      SE9  \n66      SE3  \n67      SE2  \n68      SE3  \n69     SE12  \n70     SE27  \n71      SE3  \n72     SE18  \n73      SE5  \n74      SE4  \n75      SE5  \n76      SE6  \n77      SE7  \n78     SE20  \n79     SE12  "
                    },
                    "execution_count": 41,
                    "metadata": {},
                    "output_type": "execute_result"
                }
            ],
            "source": "df_se"
        },
        {
            "cell_type": "code",
            "execution_count": 42,
            "metadata": {},
            "outputs": [],
            "source": "df_se_top = df_se[df_se['Borough'].isin(['Lewisham', 'Southwark', 'Lambeth', 'Hackney', 'Croydon'])].reset_index(drop=True)"
        },
        {
            "cell_type": "markdown",
            "metadata": {},
            "source": "Just to be sure with syntax, Hackney is in North London, so it will not be returned. The resulting dataframe is df_se_top."
        },
        {
            "cell_type": "code",
            "execution_count": 43,
            "metadata": {},
            "outputs": [
                {
                    "data": {
                        "text/html": "<div>\n<style scoped>\n    .dataframe tbody tr th:only-of-type {\n        vertical-align: middle;\n    }\n\n    .dataframe tbody tr th {\n        vertical-align: top;\n    }\n\n    .dataframe thead th {\n        text-align: right;\n    }\n</style>\n<table border=\"1\" class=\"dataframe\">\n  <thead>\n    <tr style=\"text-align: right;\">\n      <th></th>\n      <th>Location</th>\n      <th>Borough</th>\n      <th>Postcode</th>\n    </tr>\n  </thead>\n  <tbody>\n    <tr>\n      <th>0</th>\n      <td>Crofton Park</td>\n      <td>Lewisham</td>\n      <td>SE4</td>\n    </tr>\n    <tr>\n      <th>1</th>\n      <td>Denmark Hill</td>\n      <td>Southwark</td>\n      <td>SE5</td>\n    </tr>\n    <tr>\n      <th>2</th>\n      <td>Deptford</td>\n      <td>Lewisham</td>\n      <td>SE8</td>\n    </tr>\n    <tr>\n      <th>3</th>\n      <td>Dulwich</td>\n      <td>Southwark</td>\n      <td>SE21</td>\n    </tr>\n    <tr>\n      <th>4</th>\n      <td>East Dulwich</td>\n      <td>Southwark</td>\n      <td>SE22</td>\n    </tr>\n  </tbody>\n</table>\n</div>",
                        "text/plain": "       Location    Borough Postcode\n0  Crofton Park   Lewisham      SE4\n1  Denmark Hill  Southwark      SE5\n2      Deptford   Lewisham      SE8\n3       Dulwich  Southwark     SE21\n4  East Dulwich  Southwark     SE22"
                    },
                    "execution_count": 43,
                    "metadata": {},
                    "output_type": "execute_result"
                }
            ],
            "source": "df_se_top.head(5)"
        },
        {
            "cell_type": "code",
            "execution_count": 44,
            "metadata": {},
            "outputs": [
                {
                    "data": {
                        "text/plain": "(46, 3)"
                    },
                    "execution_count": 44,
                    "metadata": {},
                    "output_type": "execute_result"
                }
            ],
            "source": "df_se_top.shape"
        },
        {
            "cell_type": "code",
            "execution_count": 45,
            "metadata": {},
            "outputs": [
                {
                    "data": {
                        "text/plain": "(80, 3)"
                    },
                    "execution_count": 45,
                    "metadata": {},
                    "output_type": "execute_result"
                }
            ],
            "source": "df_se.shape"
        },
        {
            "cell_type": "markdown",
            "metadata": {},
            "source": "So we have our working dataframe to be df_se_top to work with."
        },
        {
            "cell_type": "markdown",
            "metadata": {},
            "source": "### 2.1.2 Dataset 2:\nIn obtaining the location data of the locations, the Geocoder package is used with the arcgis_geocoder to obtain the latitude and longitude of the needed locations.\n\nThese will help to create a new dataframe that will be used subsequently for the South East London areas."
        },
        {
            "cell_type": "code",
            "execution_count": 46,
            "metadata": {},
            "outputs": [],
            "source": "# Geocoder starts here\n# Defining a function to use --> get_latlng()'''\ndef get_latlng(arcgis_geocoder):\n    \n    # Initialize the Location (lat. and long.) to \"None\"\n    lat_lng_coords = None\n    \n    # While loop helps to create a continous run until all the location coordinates are geocoded\n    while(lat_lng_coords is None):\n        g = geocoder.arcgis('{}, London, United Kingdom'.format(arcgis_geocoder))\n        lat_lng_coords = g.latlng\n    return lat_lng_coords\n# Geocoder ends here"
        },
        {
            "cell_type": "markdown",
            "metadata": {},
            "source": "Testing the function above for a sample postcode - SE2."
        },
        {
            "cell_type": "code",
            "execution_count": 47,
            "metadata": {},
            "outputs": [
                {
                    "data": {
                        "text/plain": "[51.492450000000076, 0.12127000000003818]"
                    },
                    "execution_count": 47,
                    "metadata": {},
                    "output_type": "execute_result"
                }
            ],
            "source": "sample = get_latlng('SE2')\nsample"
        },
        {
            "cell_type": "markdown",
            "metadata": {},
            "source": "And reverse geocoding this, using the geocodefarm geocoder, gives the following:"
        },
        {
            "cell_type": "code",
            "execution_count": 48,
            "metadata": {},
            "outputs": [
                {
                    "data": {
                        "text/plain": "<[OK] Geocodefarm - Reverse [Harrow Manor Way, London, SE2 9SW, United Kingdom]>"
                    },
                    "execution_count": 48,
                    "metadata": {},
                    "output_type": "execute_result"
                }
            ],
            "source": "gg = geocoder.geocodefarm(sample, method = 'reverse')\ngg"
        },
        {
            "cell_type": "markdown",
            "metadata": {},
            "source": "So, we are certain that the geocoder works fine. So we proceed to applying it to our dataframe df_se_top."
        },
        {
            "cell_type": "code",
            "execution_count": 49,
            "metadata": {},
            "outputs": [
                {
                    "name": "stdout",
                    "output_type": "stream",
                    "text": "Time of execution:  29.214716911315918 seconds\n"
                }
            ],
            "source": "start = time.time()\n\npostal_codes = df_se_top['Postcode']    \ncoordinates = [get_latlng(postal_code) for postal_code in postal_codes.tolist()]\n\nend = time.time()\nprint(\"Time of execution: \", end - start, \"seconds\")"
        },
        {
            "cell_type": "markdown",
            "metadata": {},
            "source": "Then we proceed to store the location data - latitude and longitude as follows. The obtained coordinates are then joined to df_se_topto create new data frame."
        },
        {
            "cell_type": "code",
            "execution_count": 50,
            "metadata": {},
            "outputs": [],
            "source": "df_se_loc = df_se_top\n\n# The obtained coordinates (latitude and longitude) are joined with the dataframe as shown\ndf_se_coordinates = pd.DataFrame(coordinates, columns = ['Latitude', 'Longitude'])\ndf_se_loc['Latitude'] = df_se_coordinates['Latitude']\ndf_se_loc['Longitude'] = df_se_coordinates['Longitude']"
        },
        {
            "cell_type": "code",
            "execution_count": 51,
            "metadata": {},
            "outputs": [
                {
                    "data": {
                        "text/html": "<div>\n<style scoped>\n    .dataframe tbody tr th:only-of-type {\n        vertical-align: middle;\n    }\n\n    .dataframe tbody tr th {\n        vertical-align: top;\n    }\n\n    .dataframe thead th {\n        text-align: right;\n    }\n</style>\n<table border=\"1\" class=\"dataframe\">\n  <thead>\n    <tr style=\"text-align: right;\">\n      <th></th>\n      <th>Location</th>\n      <th>Borough</th>\n      <th>Postcode</th>\n      <th>Latitude</th>\n      <th>Longitude</th>\n    </tr>\n  </thead>\n  <tbody>\n    <tr>\n      <th>0</th>\n      <td>Crofton Park</td>\n      <td>Lewisham</td>\n      <td>SE4</td>\n      <td>51.46268</td>\n      <td>-0.03558</td>\n    </tr>\n    <tr>\n      <th>1</th>\n      <td>Denmark Hill</td>\n      <td>Southwark</td>\n      <td>SE5</td>\n      <td>51.47480</td>\n      <td>-0.09313</td>\n    </tr>\n    <tr>\n      <th>2</th>\n      <td>Deptford</td>\n      <td>Lewisham</td>\n      <td>SE8</td>\n      <td>51.48114</td>\n      <td>-0.02467</td>\n    </tr>\n    <tr>\n      <th>3</th>\n      <td>Dulwich</td>\n      <td>Southwark</td>\n      <td>SE21</td>\n      <td>51.44100</td>\n      <td>-0.08897</td>\n    </tr>\n    <tr>\n      <th>4</th>\n      <td>East Dulwich</td>\n      <td>Southwark</td>\n      <td>SE22</td>\n      <td>51.45256</td>\n      <td>-0.07076</td>\n    </tr>\n  </tbody>\n</table>\n</div>",
                        "text/plain": "       Location    Borough Postcode  Latitude  Longitude\n0  Crofton Park   Lewisham      SE4  51.46268   -0.03558\n1  Denmark Hill  Southwark      SE5  51.47480   -0.09313\n2      Deptford   Lewisham      SE8  51.48114   -0.02467\n3       Dulwich  Southwark     SE21  51.44100   -0.08897\n4  East Dulwich  Southwark     SE22  51.45256   -0.07076"
                    },
                    "execution_count": 51,
                    "metadata": {},
                    "output_type": "execute_result"
                }
            ],
            "source": "df_se_loc.head(5)"
        },
        {
            "cell_type": "code",
            "execution_count": 52,
            "metadata": {},
            "outputs": [],
            "source": "df_se_loc.to_csv('SELondonLocationsCoordinates.csv', index = False)"
        },
        {
            "cell_type": "code",
            "execution_count": 53,
            "metadata": {},
            "outputs": [
                {
                    "data": {
                        "text/plain": "(46, 5)"
                    },
                    "execution_count": 53,
                    "metadata": {},
                    "output_type": "execute_result"
                }
            ],
            "source": "df_se_loc.shape"
        },
        {
            "cell_type": "markdown",
            "metadata": {},
            "source": "### 2.1.3 Dataset 3:\nThe Foursquare API will be used to obtain the South East London Area venues for the geographical location data . These will be used to explore the neighbourhoods of London acordingly.\n\nThe venues within the neighbourhoods of South East London like the areas's restaurants and proximity to amenities would be correlated. Also, accessibility and ease of supplies would be considered as it relates to venues.\n\nTo use the Foursquare API, we define the Foursquare Credentials and Version as shown below:\n\nPlease note that due to privacy, the personal Foursquare Credential has been stored in a .json <fsquarecredential.json> and called appropriately as shown below:"
        },
        {
            "cell_type": "code",
            "execution_count": null,
            "metadata": {},
            "outputs": [],
            "source": "import json\nfilename = 'fsquarecredential.json'\nwith open(filename) as f:\n    data = json.load(f)"
        },
        {
            "cell_type": "code",
            "execution_count": null,
            "metadata": {},
            "outputs": [],
            "source": "CLIENT_ID = data['credential']['CLIENT_ID'] # your Foursquare ID\nCLIENT_SECRET = data['credential']['CLIENT_SECRET'] # your Foursquare Secret\nVERSION = data['credential']['VERSION'] # Foursquare API version"
        },
        {
            "cell_type": "markdown",
            "metadata": {},
            "source": "## 3. Methodology\n### 3.1 Data Exploration\n### 3.1.1 Single Neighbourhood\nAn initial exploration of a single Neighbourhood within the London area was done to examine the Foursquare workability. The Lewisham Borough postcode SE13 and Location - Lewisham is used for this."
        },
        {
            "cell_type": "code",
            "execution_count": 54,
            "metadata": {},
            "outputs": [],
            "source": "# Resets the current index to a new\nse_df = df_se_loc.reset_index().drop('index', axis = 1)"
        },
        {
            "cell_type": "code",
            "execution_count": 55,
            "metadata": {},
            "outputs": [
                {
                    "data": {
                        "text/plain": "(46, 5)"
                    },
                    "execution_count": 55,
                    "metadata": {},
                    "output_type": "execute_result"
                }
            ],
            "source": "se_df.shape"
        },
        {
            "cell_type": "code",
            "execution_count": 56,
            "metadata": {},
            "outputs": [
                {
                    "data": {
                        "text/html": "<div>\n<style scoped>\n    .dataframe tbody tr th:only-of-type {\n        vertical-align: middle;\n    }\n\n    .dataframe tbody tr th {\n        vertical-align: top;\n    }\n\n    .dataframe thead th {\n        text-align: right;\n    }\n</style>\n<table border=\"1\" class=\"dataframe\">\n  <thead>\n    <tr style=\"text-align: right;\">\n      <th></th>\n      <th>Location</th>\n      <th>Borough</th>\n      <th>Postcode</th>\n      <th>Latitude</th>\n      <th>Longitude</th>\n    </tr>\n  </thead>\n  <tbody>\n    <tr>\n      <th>0</th>\n      <td>Crofton Park</td>\n      <td>Lewisham</td>\n      <td>SE4</td>\n      <td>51.46268</td>\n      <td>-0.03558</td>\n    </tr>\n    <tr>\n      <th>1</th>\n      <td>Denmark Hill</td>\n      <td>Southwark</td>\n      <td>SE5</td>\n      <td>51.47480</td>\n      <td>-0.09313</td>\n    </tr>\n    <tr>\n      <th>2</th>\n      <td>Deptford</td>\n      <td>Lewisham</td>\n      <td>SE8</td>\n      <td>51.48114</td>\n      <td>-0.02467</td>\n    </tr>\n    <tr>\n      <th>3</th>\n      <td>Dulwich</td>\n      <td>Southwark</td>\n      <td>SE21</td>\n      <td>51.44100</td>\n      <td>-0.08897</td>\n    </tr>\n    <tr>\n      <th>4</th>\n      <td>East Dulwich</td>\n      <td>Southwark</td>\n      <td>SE22</td>\n      <td>51.45256</td>\n      <td>-0.07076</td>\n    </tr>\n    <tr>\n      <th>5</th>\n      <td>Elephant and Castle</td>\n      <td>Southwark</td>\n      <td>SE1</td>\n      <td>51.49960</td>\n      <td>-0.09613</td>\n    </tr>\n    <tr>\n      <th>6</th>\n      <td>Elephant and Castle</td>\n      <td>Southwark</td>\n      <td>SE11</td>\n      <td>51.49084</td>\n      <td>-0.11108</td>\n    </tr>\n    <tr>\n      <th>7</th>\n      <td>Elephant and Castle</td>\n      <td>Southwark</td>\n      <td>SE17</td>\n      <td>51.48764</td>\n      <td>-0.09542</td>\n    </tr>\n    <tr>\n      <th>8</th>\n      <td>Bankside</td>\n      <td>Southwark</td>\n      <td>SE1</td>\n      <td>51.49960</td>\n      <td>-0.09613</td>\n    </tr>\n    <tr>\n      <th>9</th>\n      <td>Forest Hill</td>\n      <td>Lewisham</td>\n      <td>SE23</td>\n      <td>51.44122</td>\n      <td>-0.04764</td>\n    </tr>\n    <tr>\n      <th>10</th>\n      <td>Gipsy Hill</td>\n      <td>Lambeth</td>\n      <td>SE19</td>\n      <td>51.41990</td>\n      <td>-0.08808</td>\n    </tr>\n    <tr>\n      <th>11</th>\n      <td>Gipsy Hill</td>\n      <td>Lambeth</td>\n      <td>SE27</td>\n      <td>51.43407</td>\n      <td>-0.10375</td>\n    </tr>\n    <tr>\n      <th>12</th>\n      <td>Grove Park</td>\n      <td>Lewisham</td>\n      <td>SE12</td>\n      <td>51.44759</td>\n      <td>0.01350</td>\n    </tr>\n    <tr>\n      <th>13</th>\n      <td>Herne Hill</td>\n      <td>Lambeth</td>\n      <td>SE24</td>\n      <td>51.45529</td>\n      <td>-0.09928</td>\n    </tr>\n    <tr>\n      <th>14</th>\n      <td>Hither Green</td>\n      <td>Lewisham</td>\n      <td>SE13</td>\n      <td>51.46196</td>\n      <td>-0.00754</td>\n    </tr>\n    <tr>\n      <th>15</th>\n      <td>Honor Oak</td>\n      <td>Lewisham</td>\n      <td>SE23</td>\n      <td>51.44122</td>\n      <td>-0.04764</td>\n    </tr>\n    <tr>\n      <th>16</th>\n      <td>Ladywell</td>\n      <td>Lewisham</td>\n      <td>SE4</td>\n      <td>51.46268</td>\n      <td>-0.03558</td>\n    </tr>\n    <tr>\n      <th>17</th>\n      <td>Ladywell</td>\n      <td>Lewisham</td>\n      <td>SE13</td>\n      <td>51.46196</td>\n      <td>-0.00754</td>\n    </tr>\n    <tr>\n      <th>18</th>\n      <td>Lambeth</td>\n      <td>Lambeth</td>\n      <td>SE1</td>\n      <td>51.49960</td>\n      <td>-0.09613</td>\n    </tr>\n    <tr>\n      <th>19</th>\n      <td>Lee</td>\n      <td>Lewisham</td>\n      <td>SE12</td>\n      <td>51.44759</td>\n      <td>0.01350</td>\n    </tr>\n    <tr>\n      <th>20</th>\n      <td>Lewisham</td>\n      <td>Lewisham</td>\n      <td>SE13</td>\n      <td>51.46196</td>\n      <td>-0.00754</td>\n    </tr>\n    <tr>\n      <th>21</th>\n      <td>New Cross</td>\n      <td>Lewisham</td>\n      <td>SE14</td>\n      <td>51.47489</td>\n      <td>-0.04038</td>\n    </tr>\n    <tr>\n      <th>22</th>\n      <td>Newington</td>\n      <td>Southwark</td>\n      <td>SE1</td>\n      <td>51.49960</td>\n      <td>-0.09613</td>\n    </tr>\n    <tr>\n      <th>23</th>\n      <td>Newington</td>\n      <td>Southwark</td>\n      <td>SE17</td>\n      <td>51.48764</td>\n      <td>-0.09542</td>\n    </tr>\n    <tr>\n      <th>24</th>\n      <td>Nunhead</td>\n      <td>Southwark</td>\n      <td>SE15</td>\n      <td>51.47218</td>\n      <td>-0.06779</td>\n    </tr>\n    <tr>\n      <th>25</th>\n      <td>Oval</td>\n      <td>Lambeth</td>\n      <td>SE11</td>\n      <td>51.49084</td>\n      <td>-0.11108</td>\n    </tr>\n    <tr>\n      <th>26</th>\n      <td>Bellingham</td>\n      <td>Lewisham</td>\n      <td>SE6</td>\n      <td>51.43722</td>\n      <td>-0.01868</td>\n    </tr>\n    <tr>\n      <th>27</th>\n      <td>Peckham</td>\n      <td>Southwark</td>\n      <td>SE15</td>\n      <td>51.47218</td>\n      <td>-0.06779</td>\n    </tr>\n    <tr>\n      <th>28</th>\n      <td>Rotherhithe</td>\n      <td>Southwark</td>\n      <td>SE16</td>\n      <td>51.49574</td>\n      <td>-0.05157</td>\n    </tr>\n    <tr>\n      <th>29</th>\n      <td>Selhurst</td>\n      <td>Croydon</td>\n      <td>SE25</td>\n      <td>51.39925</td>\n      <td>-0.07414</td>\n    </tr>\n    <tr>\n      <th>30</th>\n      <td>Bermondsey</td>\n      <td>Southwark</td>\n      <td>SE1</td>\n      <td>51.49960</td>\n      <td>-0.09613</td>\n    </tr>\n    <tr>\n      <th>31</th>\n      <td>South Norwood</td>\n      <td>Croydon</td>\n      <td>SE25</td>\n      <td>51.39925</td>\n      <td>-0.07414</td>\n    </tr>\n    <tr>\n      <th>32</th>\n      <td>Southend</td>\n      <td>Lewisham</td>\n      <td>SE6</td>\n      <td>51.43722</td>\n      <td>-0.01868</td>\n    </tr>\n    <tr>\n      <th>33</th>\n      <td>St Johns</td>\n      <td>Lewisham</td>\n      <td>SE4</td>\n      <td>51.46268</td>\n      <td>-0.03558</td>\n    </tr>\n    <tr>\n      <th>34</th>\n      <td>Surrey Quays</td>\n      <td>Southwark</td>\n      <td>SE16</td>\n      <td>51.49574</td>\n      <td>-0.05157</td>\n    </tr>\n    <tr>\n      <th>35</th>\n      <td>Tulse Hill</td>\n      <td>Lambeth</td>\n      <td>SE24</td>\n      <td>51.45529</td>\n      <td>-0.09928</td>\n    </tr>\n    <tr>\n      <th>36</th>\n      <td>Tulse Hill</td>\n      <td>Lambeth</td>\n      <td>SE27</td>\n      <td>51.43407</td>\n      <td>-0.10375</td>\n    </tr>\n    <tr>\n      <th>37</th>\n      <td>Upper Norwood</td>\n      <td>Croydon</td>\n      <td>SE19</td>\n      <td>51.41990</td>\n      <td>-0.08808</td>\n    </tr>\n    <tr>\n      <th>38</th>\n      <td>Walworth</td>\n      <td>Southwark</td>\n      <td>SE17</td>\n      <td>51.48764</td>\n      <td>-0.09542</td>\n    </tr>\n    <tr>\n      <th>39</th>\n      <td>Blackheath</td>\n      <td>Lewisham</td>\n      <td>SE3</td>\n      <td>51.47138</td>\n      <td>0.02338</td>\n    </tr>\n    <tr>\n      <th>40</th>\n      <td>West Norwood</td>\n      <td>Lambeth</td>\n      <td>SE27</td>\n      <td>51.43407</td>\n      <td>-0.10375</td>\n    </tr>\n    <tr>\n      <th>41</th>\n      <td>Brixton</td>\n      <td>Lambeth</td>\n      <td>SE5</td>\n      <td>51.47480</td>\n      <td>-0.09313</td>\n    </tr>\n    <tr>\n      <th>42</th>\n      <td>Brockley</td>\n      <td>Lewisham</td>\n      <td>SE4</td>\n      <td>51.46268</td>\n      <td>-0.03558</td>\n    </tr>\n    <tr>\n      <th>43</th>\n      <td>Camberwell</td>\n      <td>Southwark</td>\n      <td>SE5</td>\n      <td>51.47480</td>\n      <td>-0.09313</td>\n    </tr>\n    <tr>\n      <th>44</th>\n      <td>Catford</td>\n      <td>Lewisham</td>\n      <td>SE6</td>\n      <td>51.43722</td>\n      <td>-0.01868</td>\n    </tr>\n    <tr>\n      <th>45</th>\n      <td>Chinbrook</td>\n      <td>Lewisham</td>\n      <td>SE12</td>\n      <td>51.44759</td>\n      <td>0.01350</td>\n    </tr>\n  </tbody>\n</table>\n</div>",
                        "text/plain": "               Location    Borough Postcode  Latitude  Longitude\n0          Crofton Park   Lewisham      SE4  51.46268   -0.03558\n1          Denmark Hill  Southwark      SE5  51.47480   -0.09313\n2              Deptford   Lewisham      SE8  51.48114   -0.02467\n3               Dulwich  Southwark     SE21  51.44100   -0.08897\n4          East Dulwich  Southwark     SE22  51.45256   -0.07076\n5   Elephant and Castle  Southwark      SE1  51.49960   -0.09613\n6   Elephant and Castle  Southwark     SE11  51.49084   -0.11108\n7   Elephant and Castle  Southwark     SE17  51.48764   -0.09542\n8              Bankside  Southwark      SE1  51.49960   -0.09613\n9           Forest Hill   Lewisham     SE23  51.44122   -0.04764\n10           Gipsy Hill    Lambeth     SE19  51.41990   -0.08808\n11           Gipsy Hill    Lambeth     SE27  51.43407   -0.10375\n12           Grove Park   Lewisham     SE12  51.44759    0.01350\n13           Herne Hill    Lambeth     SE24  51.45529   -0.09928\n14         Hither Green   Lewisham     SE13  51.46196   -0.00754\n15            Honor Oak   Lewisham     SE23  51.44122   -0.04764\n16             Ladywell   Lewisham      SE4  51.46268   -0.03558\n17             Ladywell   Lewisham     SE13  51.46196   -0.00754\n18              Lambeth    Lambeth      SE1  51.49960   -0.09613\n19                  Lee   Lewisham     SE12  51.44759    0.01350\n20             Lewisham   Lewisham     SE13  51.46196   -0.00754\n21            New Cross   Lewisham     SE14  51.47489   -0.04038\n22            Newington  Southwark      SE1  51.49960   -0.09613\n23            Newington  Southwark     SE17  51.48764   -0.09542\n24              Nunhead  Southwark     SE15  51.47218   -0.06779\n25                 Oval    Lambeth     SE11  51.49084   -0.11108\n26           Bellingham   Lewisham      SE6  51.43722   -0.01868\n27              Peckham  Southwark     SE15  51.47218   -0.06779\n28          Rotherhithe  Southwark     SE16  51.49574   -0.05157\n29             Selhurst    Croydon     SE25  51.39925   -0.07414\n30           Bermondsey  Southwark      SE1  51.49960   -0.09613\n31        South Norwood    Croydon     SE25  51.39925   -0.07414\n32             Southend   Lewisham      SE6  51.43722   -0.01868\n33             St Johns   Lewisham      SE4  51.46268   -0.03558\n34         Surrey Quays  Southwark     SE16  51.49574   -0.05157\n35           Tulse Hill    Lambeth     SE24  51.45529   -0.09928\n36           Tulse Hill    Lambeth     SE27  51.43407   -0.10375\n37        Upper Norwood    Croydon     SE19  51.41990   -0.08808\n38             Walworth  Southwark     SE17  51.48764   -0.09542\n39           Blackheath   Lewisham      SE3  51.47138    0.02338\n40         West Norwood    Lambeth     SE27  51.43407   -0.10375\n41              Brixton    Lambeth      SE5  51.47480   -0.09313\n42             Brockley   Lewisham      SE4  51.46268   -0.03558\n43           Camberwell  Southwark      SE5  51.47480   -0.09313\n44              Catford   Lewisham      SE6  51.43722   -0.01868\n45            Chinbrook   Lewisham     SE12  51.44759    0.01350"
                    },
                    "execution_count": 56,
                    "metadata": {},
                    "output_type": "execute_result"
                }
            ],
            "source": "se_df"
        },
        {
            "cell_type": "code",
            "execution_count": 57,
            "metadata": {},
            "outputs": [
                {
                    "data": {
                        "text/html": "<div>\n<style scoped>\n    .dataframe tbody tr th:only-of-type {\n        vertical-align: middle;\n    }\n\n    .dataframe tbody tr th {\n        vertical-align: top;\n    }\n\n    .dataframe thead th {\n        text-align: right;\n    }\n</style>\n<table border=\"1\" class=\"dataframe\">\n  <thead>\n    <tr style=\"text-align: right;\">\n      <th></th>\n      <th>Location</th>\n      <th>Borough</th>\n      <th>Postcode</th>\n      <th>Latitude</th>\n      <th>Longitude</th>\n    </tr>\n  </thead>\n  <tbody>\n    <tr>\n      <th>20</th>\n      <td>Lewisham</td>\n      <td>Lewisham</td>\n      <td>SE13</td>\n      <td>51.46196</td>\n      <td>-0.00754</td>\n    </tr>\n  </tbody>\n</table>\n</div>",
                        "text/plain": "    Location   Borough Postcode  Latitude  Longitude\n20  Lewisham  Lewisham     SE13  51.46196   -0.00754"
                    },
                    "execution_count": 57,
                    "metadata": {},
                    "output_type": "execute_result"
                }
            ],
            "source": "se_df.loc[se_df['Location'] == 'Lewisham']"
        },
        {
            "cell_type": "markdown",
            "metadata": {},
            "source": "Now, let's use the Lewisham with the index location 20."
        },
        {
            "cell_type": "code",
            "execution_count": 58,
            "metadata": {},
            "outputs": [
                {
                    "data": {
                        "text/plain": "'Lewisham'"
                    },
                    "execution_count": 58,
                    "metadata": {},
                    "output_type": "execute_result"
                }
            ],
            "source": "se_df.loc[20, 'Location']"
        },
        {
            "cell_type": "code",
            "execution_count": 59,
            "metadata": {},
            "outputs": [
                {
                    "name": "stdout",
                    "output_type": "stream",
                    "text": "The latitude and longitude values of Lewisham with postcode SE13, are 51.46196000000003, -0.007539999999949032.\n"
                }
            ],
            "source": "lewisham_lat = se_df.loc[20, 'Latitude']\nlewisham_long = se_df.loc[20, 'Longitude']\nlewisham_loc = se_df.loc[20, 'Location']\nlewisham_postcode = se_df.loc[20, 'Postcode']\n\nprint('The latitude and longitude values of {} with postcode {}, are {}, {}.'.format(lewisham_loc,\n                                                                                         lewisham_postcode,\n                                                                                         lewisham_lat,\n                                                                                         lewisham_long))"
        },
        {
            "cell_type": "markdown",
            "metadata": {},
            "source": "And then, let's create the GET request URL, and then the url is named."
        },
        {
            "cell_type": "code",
            "execution_count": null,
            "metadata": {},
            "outputs": [],
            "source": "# Credentials are provided already for this part\nLIMIT = 100 # limit of number of venues returned by Foursquare API\nradius = 2000 # define radius\nurl = 'https://api.foursquare.com/v2/venues/explore?&client_id={}&client_secret={}&v={}&ll={},{}&radius={}&limit={}'.format(\n    CLIENT_ID, \n    CLIENT_SECRET, \n    VERSION, \n    lewisham_lat, \n    lewisham_long, \n    radius, \n    LIMIT)\n\n# displays URL\nurl"
        },
        {
            "cell_type": "code",
            "execution_count": null,
            "metadata": {},
            "outputs": [],
            "source": "results = requests.get(url).json()\nresults"
        },
        {
            "cell_type": "markdown",
            "metadata": {},
            "source": "From the results, the necessary information needs to be obtained from items key. To do this, the get_category_type function is used from the Foursquare lab."
        },
        {
            "cell_type": "code",
            "execution_count": null,
            "metadata": {},
            "outputs": [],
            "source": "# function that extracts the category of the venue\ndef get_category_type(row):\n    try:\n        categories_list = row['categories']\n    except:\n        categories_list = row['venue.categories']\n        \n    if len(categories_list) == 0:\n        return None\n    else:\n        return categories_list[0]['name']"
        },
        {
            "cell_type": "markdown",
            "metadata": {},
            "source": "The result is then cleaned up from json to a structured pandas dataframe as shown below:"
        },
        {
            "cell_type": "code",
            "execution_count": null,
            "metadata": {},
            "outputs": [],
            "source": "\nvenues = results['response']['groups'][0]['items']\n    \nnearby_venues = json_normalize(venues) # flatten JSON\n\n# filter columns\nfiltered_columns = ['venue.name', 'venue.categories', 'venue.location.lat', 'venue.location.lng']\nnearby_venues =nearby_venues.loc[:, filtered_columns]\n\n# filter the category for each row\nnearby_venues['venue.categories'] = nearby_venues.apply(get_category_type, axis=1)\n\n# clean columns\nnearby_venues.columns = [col.split(\".\")[-1] for col in nearby_venues.columns]"
        },
        {
            "cell_type": "code",
            "execution_count": null,
            "metadata": {},
            "outputs": [],
            "source": "nearby_venues"
        },
        {
            "cell_type": "code",
            "execution_count": null,
            "metadata": {},
            "outputs": [],
            "source": "nearby_venues_lewisham_unique = nearby_venues['categories'].value_counts().to_frame(name='Count')"
        },
        {
            "cell_type": "code",
            "execution_count": null,
            "metadata": {},
            "outputs": [],
            "source": "nearby_venues_lewisham_unique.head(5)"
        },
        {
            "cell_type": "markdown",
            "metadata": {},
            "source": "Interestingly, even though there are restaurants are the Lewisham area, they are not even in the top 5 venues. It should be noted that since we are limited by data availability, our perspectives will be on what we have."
        },
        {
            "cell_type": "code",
            "execution_count": null,
            "metadata": {},
            "outputs": [],
            "source": "print('{} venues were returned by Foursquare.'.format(nearby_venues.shape[0]))"
        },
        {
            "cell_type": "markdown",
            "metadata": {},
            "source": "So in this case, 100 venues were returned for Lewisham."
        },
        {
            "cell_type": "markdown",
            "metadata": {},
            "source": "### 3.1.2 Multiple Neighbourhoods\nNow let's explore (Multiple) Neighborhoods in the South East London area.\n\nTo do this, the function getNearbyVenues is used and it's created to repeat the same process for all neighborhoods."
        },
        {
            "cell_type": "code",
            "execution_count": null,
            "metadata": {},
            "outputs": [],
            "source": "def getNearbyVenues(names, latitudes, longitudes, radius=2000):\n    \n    venues_list=[]\n    for name, lat, lng in zip(names, latitudes, longitudes):\n        print(name)\n            \n        # create the API request URL\n        url = 'https://api.foursquare.com/v2/venues/explore?&client_id={}&client_secret={}&v={}&ll={},{}&radius={}&limit={}'.format(\n            CLIENT_ID, \n            CLIENT_SECRET, \n            VERSION, \n            lat, \n            lng, \n            radius, \n            LIMIT)\n            \n        # make the GET request\n        results = requests.get(url).json()[\"response\"]['groups'][0]['items']\n        \n        # return only relevant information for each nearby venue\n        venues_list.append([(\n            name, \n            lat, \n            lng, \n            v['venue']['name'], \n            v['venue']['location']['lat'], \n            v['venue']['location']['lng'],  \n            v['venue']['categories'][0]['name']) for v in results])\n\n    nearby_venues = pd.DataFrame([item for venue_list in venues_list for item in venue_list])\n    nearby_venues.columns = ['Neighbourhood', \n                  'Neighbourhood Latitude', \n                  'Neighbourhood Longitude', \n                  'Venue', \n                  'Venue Latitude', \n                  'Venue Longitude', \n                  'Venue Category']\n    \n    return(nearby_venues)"
        },
        {
            "cell_type": "markdown",
            "metadata": {},
            "source": "The created function - getNearbyVenues is then used on each neighbourhoods. And creates a new dataframe called london_venues."
        },
        {
            "cell_type": "code",
            "execution_count": null,
            "metadata": {},
            "outputs": [],
            "source": "se_venues = getNearbyVenues(names=se_df['Location'],\n                                   latitudes=se_df['Latitude'],\n                                   longitudes=se_df['Longitude']\n                                  )"
        },
        {
            "cell_type": "code",
            "execution_count": null,
            "metadata": {},
            "outputs": [],
            "source": "se_venues.shape"
        },
        {
            "cell_type": "code",
            "execution_count": null,
            "metadata": {},
            "outputs": [],
            "source": "len(se_venues)"
        },
        {
            "cell_type": "code",
            "execution_count": null,
            "metadata": {},
            "outputs": [],
            "source": "se_venues['Neighbourhood'].value_counts()\nse_venues.to_csv('se_venues.csv')"
        },
        {
            "cell_type": "code",
            "execution_count": null,
            "metadata": {},
            "outputs": [],
            "source": "se_venues.head(5)"
        },
        {
            "cell_type": "markdown",
            "metadata": {},
            "source": "The number of venues returned for each neighbourhoods is then explored as follows:"
        },
        {
            "cell_type": "code",
            "execution_count": null,
            "metadata": {},
            "outputs": [],
            "source": "se_venues.groupby('Neighbourhood').count()"
        },
        {
            "cell_type": "markdown",
            "metadata": {},
            "source": "The next step is to check how many unique categories can be returned for the venues. See as follows:"
        },
        {
            "cell_type": "code",
            "execution_count": null,
            "metadata": {},
            "outputs": [],
            "source": "print('There are {} uniques categories.'.format(len(se_venues['Venue Category'].unique())))"
        },
        {
            "cell_type": "markdown",
            "metadata": {},
            "source": "There are 186 uniques categories."
        },
        {
            "cell_type": "code",
            "execution_count": null,
            "metadata": {},
            "outputs": [],
            "source": "se_venue_unique_count = se_venues['Venue Category'].value_counts().to_frame(name='Count')"
        },
        {
            "cell_type": "code",
            "execution_count": null,
            "metadata": {},
            "outputs": [],
            "source": "se_venue_unique_count.head(5)"
        },
        {
            "cell_type": "code",
            "execution_count": null,
            "metadata": {},
            "outputs": [],
            "source": "se_venue_unique_count.describe()"
        },
        {
            "cell_type": "markdown",
            "metadata": {},
            "source": "### 3.2 Clustering\nFor this section, the neighbourhoods in South East London will be clustered based on the processed data obtained above.\n\n### 3.2.1 Libraries\nTo get started, all the necessary libraries have been called in the libraries section above.\n\n### 3.2.2 Map Visualization\nUsing the geopy library, the latitude and longitude values of London is obtained."
        },
        {
            "cell_type": "code",
            "execution_count": 60,
            "metadata": {},
            "outputs": [
                {
                    "name": "stdout",
                    "output_type": "stream",
                    "text": "The geograpical coordinate of London are 51.5073219, -0.1276474.\n"
                }
            ],
            "source": "address = 'London, United Kingdom'\n\ngeolocator = Nominatim(user_agent=\"ln_explorer\")\nlocation = geolocator.geocode(address)\nlatitude = location.latitude\nlongitude = location.longitude\nprint('The geograpical coordinate of London are {}, {}.'.format(latitude, longitude))"
        },
        {
            "cell_type": "markdown",
            "metadata": {},
            "source": "The folium library is then used to obtain the coordinates."
        },
        {
            "cell_type": "code",
            "execution_count": null,
            "metadata": {},
            "outputs": [],
            "source": "# df_london_coordinates\nmap_london = folium.Map(location = [latitude, longitude], zoom_start = 12)\nmap_london"
        },
        {
            "cell_type": "markdown",
            "metadata": {},
            "source": "The South East London neighbourhoods are then superimposed on top as shown below, still using the foliumlibrary. Please note due to the location of the South East Loondon, you might need to zoom to see the superimposed areas."
        },
        {
            "cell_type": "code",
            "execution_count": null,
            "metadata": {},
            "outputs": [],
            "source": "# Adding markers to map\nfor lat, lng, borough, loc in zip(se_df['Latitude'], \n                                  se_df['Longitude'],\n                                  se_df['Borough'],\n                                  se_df['Location']):\n    label = '{} - {}'.format(loc, borough)\n    label = folium.Popup(label, parse_html=True)\n    folium.CircleMarker(\n        [lat, lng],\n        radius=5,\n        popup=label,\n        color='blue',\n        fill=True,\n        fill_color='#3186cc',\n        fill_opacity=0.7).add_to(map_london)  \n    \ndisplay(map_london)"
        },
        {
            "cell_type": "code",
            "execution_count": null,
            "metadata": {},
            "outputs": [],
            "source": "type(se_df)"
        },
        {
            "cell_type": "markdown",
            "metadata": {},
            "source": "### 3.2.3 Analysing Each Neighborhood\nIn this section, the objective is to check and explore the venues in each neighbourhood."
        },
        {
            "cell_type": "code",
            "execution_count": null,
            "metadata": {},
            "outputs": [],
            "source": "# one hot encoding\nse_onehot = pd.get_dummies(se_venues[['Venue Category']], prefix = \"\", prefix_sep = \"\")"
        }
    ],
    "metadata": {
        "kernelspec": {
            "display_name": "Python 3.6",
            "language": "python",
            "name": "python3"
        },
        "language_info": {
            "codemirror_mode": {
                "name": "ipython",
                "version": 3
            },
            "file_extension": ".py",
            "mimetype": "text/x-python",
            "name": "python",
            "nbconvert_exporter": "python",
            "pygments_lexer": "ipython3",
            "version": "3.6.9"
        }
    },
    "nbformat": 4,
    "nbformat_minor": 1
}