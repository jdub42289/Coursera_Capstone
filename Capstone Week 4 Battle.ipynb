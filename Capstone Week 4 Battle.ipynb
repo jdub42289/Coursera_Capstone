{
    "cells": [
        {
            "metadata": {
                "collapsed": true
            },
            "cell_type": "markdown",
            "source": "# Peer-graded Assignment: Battle of Neighbourhoods - Week 1\nBy Jordan"
        },
        {
            "metadata": {},
            "cell_type": "markdown",
            "source": "## 1. Introduction\n### 1.1 Description of the Problem\nThere are a lot of fantastic restaurants in London \u2013 Asian, Middle Eastern, Latin and American cuisine, however, one will struggle to find a place to dine in the finest of West African cuisine: Nigerian, Ghanaian, Cameroonian, Senegalese and more.\n\n### 1.2 Discussion of the Background\nA successful restaurant chain in Africa is looking to expand its operations into Europe through London. They want to create a high-end organic African restaurant. Their target is not only West Africans, but they are pro-organic and healthy eating.\nSince the London demography is so big, my client needs deeper insight from available data in other to decide where to establish the first Europe \u201cpalace\u201d restaurant. This company spends a lot on research and provides customers with data insight into the ingredients used at restaurants.\n\n### 1.3 Target Audience\nConsidering the diversity of London, there is a high multicultural sense. London is a place where different shades live. As such, in the search for an high-end African-inclined restaurant, there is a high shortage. The target audience is broad, it ranges across Londoners, tourists and those who are passionate about organic food.\n\n\n\n## 2. Data\n### 2.1 Description of Data\nThis project will rely on public data from Wikipedia and Foursquare.\n\n### 2.1.1 Dataset 1:\nIn this project, London will be used synonymously with the \"Greater London Area\". Within the Greater London Area, there are areas that are within the London Area Postcode. The focus of this project will be the neighbourhoods that are within the London Post Code area.\n\nThe London Area consists of 32 Boroughs and the \"City of London\". Data will be from the link - Greater London Area <https://en.wikipedia.org/wiki/List_of_areas_of_London>\n\nA sample of the web scrapped of the Wikipedia page for the Greater London Area data is provided below:\n"
        },
        {
            "metadata": {},
            "cell_type": "code",
            "source": "import requests\nimport pandas as pd\nfrom bs4 import BeautifulSoup",
            "execution_count": 6,
            "outputs": []
        },
        {
            "metadata": {},
            "cell_type": "code",
            "source": "wikipedia_link = 'https://en.wikipedia.org/wiki/List_of_areas_of_London'\nheaders = {'User-Agent': 'Mozilla/5.0 (Windows NT 10.0; Win64; x64; rv:64.0) Gecko/20100101 Firefox/64.0'}\nwikipedia_page = requests.get(wikipedia_link, headers = headers)\nwikipedia_page",
            "execution_count": 7,
            "outputs": [
                {
                    "output_type": "execute_result",
                    "execution_count": 7,
                    "data": {
                        "text/plain": "<Response [200]>"
                    },
                    "metadata": {}
                }
            ]
        },
        {
            "metadata": {},
            "cell_type": "code",
            "source": "# Cleans html file\nsoup = BeautifulSoup(wikipedia_page.content, 'html.parser')\n# This extracts the \"tbody\" within the table where class is \"wikitable sortable\"\ntable = soup.find('table', {'class':'wikitable sortable'}).tbody\n# table",
            "execution_count": 8,
            "outputs": []
        },
        {
            "metadata": {},
            "cell_type": "code",
            "source": "# Extracts all \"tr\" (table rows) within the table above\nrows = table.find_all('tr')\n# rows",
            "execution_count": 9,
            "outputs": []
        },
        {
            "metadata": {},
            "cell_type": "code",
            "source": "# Extracts the column headers, removes and replaces possible '\\n' with space for the \"th\" tag\ncolumns = [i.text.replace('\\n', '')\n           for i in rows[0].find_all('th')]\n# columns",
            "execution_count": 10,
            "outputs": []
        },
        {
            "metadata": {},
            "cell_type": "code",
            "source": "# Converts columns to pd dataframe\ndf = pd.DataFrame(columns = columns)\n# df",
            "execution_count": 11,
            "outputs": []
        },
        {
            "metadata": {},
            "cell_type": "code",
            "source": "# Extracts every row with corresponding columns\n# Then appends the values to the create pd dataframe \"df\"\n# Please not that the first row (row[0]) is skipped because it is already the header\n\nfor i in range(1, len(rows)):\n    tds = rows[i].find_all('td')\n    \n    \n    if len(tds) == 7:\n        values = [tds[0].text, tds[1].text, tds[2].text.replace('\\n', ''.replace('\\xa0','')), tds[3].text, tds[4].text.replace('\\n', ''.replace('\\xa0','')), tds[5].text.replace('\\n', ''.replace('\\xa0','')), tds[6].text.replace('\\n', ''.replace('\\xa0',''))]\n    else:\n        values = [td.text.replace('\\n', '').replace('\\xa0','') for td in tds]\n        \n        df = df.append(pd.Series(values, index = columns), ignore_index = True)\n\n        df",
            "execution_count": 12,
            "outputs": []
        },
        {
            "metadata": {},
            "cell_type": "code",
            "source": "df.head()",
            "execution_count": 13,
            "outputs": [
                {
                    "output_type": "execute_result",
                    "execution_count": 13,
                    "data": {
                        "text/plain": "      Location                     London\u00a0borough       Post town  \\\n0   Abbey Wood             Bexley,  Greenwich [7]          LONDON   \n1        Acton  Ealing, Hammersmith and Fulham[8]          LONDON   \n2    Addington                         Croydon[8]         CROYDON   \n3   Addiscombe                         Croydon[8]         CROYDON   \n4  Albany Park                             Bexley  BEXLEY, SIDCUP   \n\n  Postcode\u00a0district Dial\u00a0code OS grid ref  \n0               SE2       020    TQ465785  \n1            W3, W4       020    TQ205805  \n2               CR0       020    TQ375645  \n3               CR0       020    TQ345665  \n4         DA5, DA14       020    TQ478728  ",
                        "text/html": "<div>\n<style scoped>\n    .dataframe tbody tr th:only-of-type {\n        vertical-align: middle;\n    }\n\n    .dataframe tbody tr th {\n        vertical-align: top;\n    }\n\n    .dataframe thead th {\n        text-align: right;\n    }\n</style>\n<table border=\"1\" class=\"dataframe\">\n  <thead>\n    <tr style=\"text-align: right;\">\n      <th></th>\n      <th>Location</th>\n      <th>London\u00a0borough</th>\n      <th>Post town</th>\n      <th>Postcode\u00a0district</th>\n      <th>Dial\u00a0code</th>\n      <th>OS grid ref</th>\n    </tr>\n  </thead>\n  <tbody>\n    <tr>\n      <th>0</th>\n      <td>Abbey Wood</td>\n      <td>Bexley,  Greenwich [7]</td>\n      <td>LONDON</td>\n      <td>SE2</td>\n      <td>020</td>\n      <td>TQ465785</td>\n    </tr>\n    <tr>\n      <th>1</th>\n      <td>Acton</td>\n      <td>Ealing, Hammersmith and Fulham[8]</td>\n      <td>LONDON</td>\n      <td>W3, W4</td>\n      <td>020</td>\n      <td>TQ205805</td>\n    </tr>\n    <tr>\n      <th>2</th>\n      <td>Addington</td>\n      <td>Croydon[8]</td>\n      <td>CROYDON</td>\n      <td>CR0</td>\n      <td>020</td>\n      <td>TQ375645</td>\n    </tr>\n    <tr>\n      <th>3</th>\n      <td>Addiscombe</td>\n      <td>Croydon[8]</td>\n      <td>CROYDON</td>\n      <td>CR0</td>\n      <td>020</td>\n      <td>TQ345665</td>\n    </tr>\n    <tr>\n      <th>4</th>\n      <td>Albany Park</td>\n      <td>Bexley</td>\n      <td>BEXLEY, SIDCUP</td>\n      <td>DA5, DA14</td>\n      <td>020</td>\n      <td>TQ478728</td>\n    </tr>\n  </tbody>\n</table>\n</div>"
                    },
                    "metadata": {}
                }
            ]
        },
        {
            "metadata": {},
            "cell_type": "code",
            "source": "df = df.rename(index=str, columns = {'Location': 'Location', 'London\\xa0borough': 'Borough', 'Post town': 'Post-town', 'Postcode\\xa0district': 'Postcode', 'Dial\\xa0code': 'Dial-code', 'OS grid ref': 'OSGridRef'})",
            "execution_count": 14,
            "outputs": []
        },
        {
            "metadata": {},
            "cell_type": "code",
            "source": "df['Borough'] = df['Borough'].map(lambda x: x.rstrip(']').rstrip('0123456789').rstrip('['))",
            "execution_count": 15,
            "outputs": []
        },
        {
            "metadata": {},
            "cell_type": "code",
            "source": "df0 = df.drop('Postcode', axis=1).join(df['Postcode'].str.split(',', expand=True).stack().reset_index(level=1, drop=True).rename('Postcode'))",
            "execution_count": 16,
            "outputs": []
        },
        {
            "metadata": {},
            "cell_type": "code",
            "source": "df1 = df0[['Location', 'Borough', 'Postcode', 'Post-town']].reset_index(drop=True)",
            "execution_count": 17,
            "outputs": []
        },
        {
            "metadata": {},
            "cell_type": "code",
            "source": "df1.head()",
            "execution_count": 18,
            "outputs": [
                {
                    "output_type": "execute_result",
                    "execution_count": 18,
                    "data": {
                        "text/plain": "     Location                         Borough Postcode Post-town\n0  Abbey Wood             Bexley,  Greenwich       SE2    LONDON\n1       Acton  Ealing, Hammersmith and Fulham       W3    LONDON\n2       Acton  Ealing, Hammersmith and Fulham       W4    LONDON\n3       Angel                       Islington      EC1    LONDON\n4       Angel                       Islington       N1    LONDON",
                        "text/html": "<div>\n<style scoped>\n    .dataframe tbody tr th:only-of-type {\n        vertical-align: middle;\n    }\n\n    .dataframe tbody tr th {\n        vertical-align: top;\n    }\n\n    .dataframe thead th {\n        text-align: right;\n    }\n</style>\n<table border=\"1\" class=\"dataframe\">\n  <thead>\n    <tr style=\"text-align: right;\">\n      <th></th>\n      <th>Location</th>\n      <th>Borough</th>\n      <th>Postcode</th>\n      <th>Post-town</th>\n    </tr>\n  </thead>\n  <tbody>\n    <tr>\n      <th>0</th>\n      <td>Abbey Wood</td>\n      <td>Bexley,  Greenwich</td>\n      <td>SE2</td>\n      <td>LONDON</td>\n    </tr>\n    <tr>\n      <th>1</th>\n      <td>Acton</td>\n      <td>Ealing, Hammersmith and Fulham</td>\n      <td>W3</td>\n      <td>LONDON</td>\n    </tr>\n    <tr>\n      <th>2</th>\n      <td>Acton</td>\n      <td>Ealing, Hammersmith and Fulham</td>\n      <td>W4</td>\n      <td>LONDON</td>\n    </tr>\n    <tr>\n      <th>3</th>\n      <td>Angel</td>\n      <td>Islington</td>\n      <td>EC1</td>\n      <td>LONDON</td>\n    </tr>\n    <tr>\n      <th>4</th>\n      <td>Angel</td>\n      <td>Islington</td>\n      <td>N1</td>\n      <td>LONDON</td>\n    </tr>\n  </tbody>\n</table>\n</div>"
                    },
                    "metadata": {}
                }
            ]
        },
        {
            "metadata": {},
            "cell_type": "code",
            "source": "df2 = df1",
            "execution_count": 19,
            "outputs": []
        },
        {
            "metadata": {},
            "cell_type": "code",
            "source": "# df_toronto_loc.Borough.str.contains('Toronto') -> TRUE or FALSE output\ndf21 = df2[df2['Post-town'].str.contains('LONDON')]",
            "execution_count": 20,
            "outputs": []
        },
        {
            "metadata": {},
            "cell_type": "code",
            "source": "df21.head(10)",
            "execution_count": 21,
            "outputs": [
                {
                    "output_type": "execute_result",
                    "execution_count": 21,
                    "data": {
                        "text/plain": "       Location                         Borough Postcode Post-town\n0    Abbey Wood             Bexley,  Greenwich       SE2    LONDON\n1         Acton  Ealing, Hammersmith and Fulham       W3    LONDON\n2         Acton  Ealing, Hammersmith and Fulham       W4    LONDON\n3         Angel                       Islington      EC1    LONDON\n4         Angel                       Islington       N1    LONDON\n5    Church End                           Brent     NW10    LONDON\n6    Church End                          Barnet       N3    LONDON\n7       Clapham             Lambeth, Wandsworth      SW4    LONDON\n8   Clerkenwell                       Islington      EC1    LONDON\n10    Colindale                          Barnet      NW9    LONDON",
                        "text/html": "<div>\n<style scoped>\n    .dataframe tbody tr th:only-of-type {\n        vertical-align: middle;\n    }\n\n    .dataframe tbody tr th {\n        vertical-align: top;\n    }\n\n    .dataframe thead th {\n        text-align: right;\n    }\n</style>\n<table border=\"1\" class=\"dataframe\">\n  <thead>\n    <tr style=\"text-align: right;\">\n      <th></th>\n      <th>Location</th>\n      <th>Borough</th>\n      <th>Postcode</th>\n      <th>Post-town</th>\n    </tr>\n  </thead>\n  <tbody>\n    <tr>\n      <th>0</th>\n      <td>Abbey Wood</td>\n      <td>Bexley,  Greenwich</td>\n      <td>SE2</td>\n      <td>LONDON</td>\n    </tr>\n    <tr>\n      <th>1</th>\n      <td>Acton</td>\n      <td>Ealing, Hammersmith and Fulham</td>\n      <td>W3</td>\n      <td>LONDON</td>\n    </tr>\n    <tr>\n      <th>2</th>\n      <td>Acton</td>\n      <td>Ealing, Hammersmith and Fulham</td>\n      <td>W4</td>\n      <td>LONDON</td>\n    </tr>\n    <tr>\n      <th>3</th>\n      <td>Angel</td>\n      <td>Islington</td>\n      <td>EC1</td>\n      <td>LONDON</td>\n    </tr>\n    <tr>\n      <th>4</th>\n      <td>Angel</td>\n      <td>Islington</td>\n      <td>N1</td>\n      <td>LONDON</td>\n    </tr>\n    <tr>\n      <th>5</th>\n      <td>Church End</td>\n      <td>Brent</td>\n      <td>NW10</td>\n      <td>LONDON</td>\n    </tr>\n    <tr>\n      <th>6</th>\n      <td>Church End</td>\n      <td>Barnet</td>\n      <td>N3</td>\n      <td>LONDON</td>\n    </tr>\n    <tr>\n      <th>7</th>\n      <td>Clapham</td>\n      <td>Lambeth, Wandsworth</td>\n      <td>SW4</td>\n      <td>LONDON</td>\n    </tr>\n    <tr>\n      <th>8</th>\n      <td>Clerkenwell</td>\n      <td>Islington</td>\n      <td>EC1</td>\n      <td>LONDON</td>\n    </tr>\n    <tr>\n      <th>10</th>\n      <td>Colindale</td>\n      <td>Barnet</td>\n      <td>NW9</td>\n      <td>LONDON</td>\n    </tr>\n  </tbody>\n</table>\n</div>"
                    },
                    "metadata": {}
                }
            ]
        },
        {
            "metadata": {},
            "cell_type": "code",
            "source": "df3 = df21[['Location', 'Borough', 'Postcode']].reset_index(drop=True)",
            "execution_count": 22,
            "outputs": []
        },
        {
            "metadata": {},
            "cell_type": "code",
            "source": "df_london = df3",
            "execution_count": 23,
            "outputs": []
        },
        {
            "metadata": {},
            "cell_type": "code",
            "source": "!pip -q install geocoder\nimport geocoder",
            "execution_count": 24,
            "outputs": []
        },
        {
            "metadata": {},
            "cell_type": "code",
            "source": "\n'''Geocoder starts here'''\n'''Defining a function to use --> get_latlng()'''\ndef get_latlng(arcgis_geocoder):\n    \n    # Initialize the Location (lat. and long.) to \"None\"\n    lat_lng_coords = None\n    \n    # While loop helps to create a continous run until all the location coordinates are geocoded\n    \n    while(lat_lng_coords is None):\n        g = geocoder.arcgis('{}, London, United Kingdom'.format(arcgis_geocoder))\n        lat_lng_coords = g.latlng\n    return lat_lng_coords\n'''Geocoder ends here'''",
            "execution_count": 25,
            "outputs": [
                {
                    "output_type": "execute_result",
                    "execution_count": 25,
                    "data": {
                        "text/plain": "'Geocoder ends here'"
                    },
                    "metadata": {}
                }
            ]
        },
        {
            "metadata": {},
            "cell_type": "code",
            "source": "postal_codes = df_london['Postcode']    \ncoordinates = [get_latlng(postal_code) for postal_code in postal_codes.tolist()]",
            "execution_count": 26,
            "outputs": []
        },
        {
            "metadata": {},
            "cell_type": "code",
            "source": "# This will store the London dataframe with coordinates\ndf_london_loc = df_london\n\n# The obtained coordinates (latitude and longitude) are joined with the dataframe as shown\ndf_london_coordinates = pd.DataFrame(coordinates, columns = ['Latitude', 'Longitude'])\ndf_london_loc['Latitude'] = df_london_coordinates['Latitude']\ndf_london_loc['Longitude'] = df_london_coordinates['Longitude']",
            "execution_count": 27,
            "outputs": []
        },
        {
            "metadata": {},
            "cell_type": "code",
            "source": "df_london_loc.head()",
            "execution_count": 28,
            "outputs": [
                {
                    "output_type": "execute_result",
                    "execution_count": 28,
                    "data": {
                        "text/plain": "     Location                         Borough Postcode  Latitude  Longitude\n0  Abbey Wood             Bexley,  Greenwich       SE2  51.49245    0.12127\n1       Acton  Ealing, Hammersmith and Fulham       W3  51.51324   -0.26746\n2       Acton  Ealing, Hammersmith and Fulham       W4  51.48944   -0.26194\n3       Angel                       Islington      EC1  51.52361   -0.09877\n4       Angel                       Islington       N1  51.53792   -0.09983",
                        "text/html": "<div>\n<style scoped>\n    .dataframe tbody tr th:only-of-type {\n        vertical-align: middle;\n    }\n\n    .dataframe tbody tr th {\n        vertical-align: top;\n    }\n\n    .dataframe thead th {\n        text-align: right;\n    }\n</style>\n<table border=\"1\" class=\"dataframe\">\n  <thead>\n    <tr style=\"text-align: right;\">\n      <th></th>\n      <th>Location</th>\n      <th>Borough</th>\n      <th>Postcode</th>\n      <th>Latitude</th>\n      <th>Longitude</th>\n    </tr>\n  </thead>\n  <tbody>\n    <tr>\n      <th>0</th>\n      <td>Abbey Wood</td>\n      <td>Bexley,  Greenwich</td>\n      <td>SE2</td>\n      <td>51.49245</td>\n      <td>0.12127</td>\n    </tr>\n    <tr>\n      <th>1</th>\n      <td>Acton</td>\n      <td>Ealing, Hammersmith and Fulham</td>\n      <td>W3</td>\n      <td>51.51324</td>\n      <td>-0.26746</td>\n    </tr>\n    <tr>\n      <th>2</th>\n      <td>Acton</td>\n      <td>Ealing, Hammersmith and Fulham</td>\n      <td>W4</td>\n      <td>51.48944</td>\n      <td>-0.26194</td>\n    </tr>\n    <tr>\n      <th>3</th>\n      <td>Angel</td>\n      <td>Islington</td>\n      <td>EC1</td>\n      <td>51.52361</td>\n      <td>-0.09877</td>\n    </tr>\n    <tr>\n      <th>4</th>\n      <td>Angel</td>\n      <td>Islington</td>\n      <td>N1</td>\n      <td>51.53792</td>\n      <td>-0.09983</td>\n    </tr>\n  </tbody>\n</table>\n</div>"
                    },
                    "metadata": {}
                }
            ]
        },
        {
            "metadata": {},
            "cell_type": "markdown",
            "source": "The data output df_london_loc shows the data format that will be used for further analysis in week 2."
        },
        {
            "metadata": {},
            "cell_type": "markdown",
            "source": "### 2.1.2 Dataset 2:\nThe Foursquare API will be used to obtain the geographical location data for the London Area. These will be used to explore the venues in the neighbourhoods of London.\n\nThe venues will provide the categories needed for the analysis and eventually, these will be used to determine the viability of selected locations for the restaurant."
        },
        {
            "metadata": {},
            "cell_type": "code",
            "source": "\n### 2.2 How data will be used to solve the problem\u00b6\nThe data from the datasets 1 and 2 will be explored by considering the venues within the neighbourhood of London Postcode areas. These areas' restaurants would be checked in terms of the types of restaurants within a certain mile radius. Due to Foursquare restrictions, the number of venues will be limited to 100 venues. The proximity to transport connection and other amenities would be correlated. Also, accessibility and ease of supplies of organic ingredients would be considered.",
            "execution_count": null,
            "outputs": []
        },
        {
            "metadata": {},
            "cell_type": "code",
            "source": "",
            "execution_count": null,
            "outputs": []
        }
    ],
    "metadata": {
        "kernelspec": {
            "name": "python3",
            "display_name": "Python 3.6",
            "language": "python"
        },
        "language_info": {
            "name": "python",
            "version": "3.6.9",
            "mimetype": "text/x-python",
            "codemirror_mode": {
                "name": "ipython",
                "version": 3
            },
            "pygments_lexer": "ipython3",
            "nbconvert_exporter": "python",
            "file_extension": ".py"
        }
    },
    "nbformat": 4,
    "nbformat_minor": 1
}